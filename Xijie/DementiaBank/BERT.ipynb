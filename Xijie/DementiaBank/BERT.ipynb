{
 "cells": [
  {
   "cell_type": "markdown",
   "metadata": {},
   "source": [
    "## load necessary packages ##"
   ]
  },
  {
   "cell_type": "code",
   "execution_count": 2,
   "metadata": {
    "ExecuteTime": {
     "end_time": "2024-05-30T11:56:11.302743Z",
     "start_time": "2024-05-30T11:56:09.058953Z"
    }
   },
   "outputs": [],
   "source": [
    "import pandas as pd\n",
    "import numpy as np\n",
    "import torch\n"
   ]
  },
  {
   "cell_type": "markdown",
   "metadata": {},
   "source": [
    "## Load datasets ##"
   ]
  },
  {
   "cell_type": "code",
   "outputs": [
    {
     "data": {
      "text/plain": "          file                                               text  label\n90   002-0.txt  The scene is in the in the kitchen . The mothe...      0\n77   002-1.txt  Oh I see the sink is running over . I see the ...      0\n96   002-2.txt  Um a boy and a girl are in the kitchen with th...      0\n112  002-3.txt  Okay . It was summertime and mother and the ch...      0\n61   006-2.txt  Wait till I put my glasses on . Oh there's a g...      0",
      "text/html": "<div>\n<style scoped>\n    .dataframe tbody tr th:only-of-type {\n        vertical-align: middle;\n    }\n\n    .dataframe tbody tr th {\n        vertical-align: top;\n    }\n\n    .dataframe thead th {\n        text-align: right;\n    }\n</style>\n<table border=\"1\" class=\"dataframe\">\n  <thead>\n    <tr style=\"text-align: right;\">\n      <th></th>\n      <th>file</th>\n      <th>text</th>\n      <th>label</th>\n    </tr>\n  </thead>\n  <tbody>\n    <tr>\n      <th>90</th>\n      <td>002-0.txt</td>\n      <td>The scene is in the in the kitchen . The mothe...</td>\n      <td>0</td>\n    </tr>\n    <tr>\n      <th>77</th>\n      <td>002-1.txt</td>\n      <td>Oh I see the sink is running over . I see the ...</td>\n      <td>0</td>\n    </tr>\n    <tr>\n      <th>96</th>\n      <td>002-2.txt</td>\n      <td>Um a boy and a girl are in the kitchen with th...</td>\n      <td>0</td>\n    </tr>\n    <tr>\n      <th>112</th>\n      <td>002-3.txt</td>\n      <td>Okay . It was summertime and mother and the ch...</td>\n      <td>0</td>\n    </tr>\n    <tr>\n      <th>61</th>\n      <td>006-2.txt</td>\n      <td>Wait till I put my glasses on . Oh there's a g...</td>\n      <td>0</td>\n    </tr>\n  </tbody>\n</table>\n</div>"
     },
     "execution_count": 9,
     "metadata": {},
     "output_type": "execute_result"
    }
   ],
   "source": [
    "#transform the all the .txt data in order into a dataframe, all labels are 0 for this folder.\n",
    "import os\n",
    "import re\n",
    "\n",
    "def load_data(path):\n",
    "    data = []\n",
    "    for file in os.listdir(path):\n",
    "        if file.endswith('.txt'):\n",
    "            with open(os.path.join(path, file), 'r') as f:\n",
    "                text = f.read()\n",
    "                data.append([file, text, 0])\n",
    "    df = pd.DataFrame(data, columns=['file', 'text', 'label'])\n",
    "    \n",
    "    df = df.sort_values(by='file')\n",
    "    return df\n",
    "    \n",
    "\n",
    "path = '/Users/richardzeng/Desktop/EMNLP/experiments/DementiaBank/Controls'\n",
    "df_controls = load_data(path)\n",
    "df_controls.head()"
   ],
   "metadata": {
    "collapsed": false,
    "ExecuteTime": {
     "end_time": "2024-05-30T12:04:14.800077Z",
     "start_time": "2024-05-30T12:04:14.773850Z"
    }
   },
   "execution_count": 9
  },
  {
   "cell_type": "code",
   "outputs": [
    {
     "data": {
      "text/plain": "         file                                               text  label\n39  001-0.txt  Mhm . Alright . There's um a young boy that's ...      1\n61  001-2.txt  Mhm . There's a young boy uh going in a cookie...      1\n65  003-0.txt  Here's a cookie jar . And the lid is off the c...      1\n30  005-0.txt  The boy is slipping off the stool . He's tryin...      1\n4   005-2.txt  Okay he's falling off a chair . She's uh runni...      1",
      "text/html": "<div>\n<style scoped>\n    .dataframe tbody tr th:only-of-type {\n        vertical-align: middle;\n    }\n\n    .dataframe tbody tr th {\n        vertical-align: top;\n    }\n\n    .dataframe thead th {\n        text-align: right;\n    }\n</style>\n<table border=\"1\" class=\"dataframe\">\n  <thead>\n    <tr style=\"text-align: right;\">\n      <th></th>\n      <th>file</th>\n      <th>text</th>\n      <th>label</th>\n    </tr>\n  </thead>\n  <tbody>\n    <tr>\n      <th>39</th>\n      <td>001-0.txt</td>\n      <td>Mhm . Alright . There's um a young boy that's ...</td>\n      <td>1</td>\n    </tr>\n    <tr>\n      <th>61</th>\n      <td>001-2.txt</td>\n      <td>Mhm . There's a young boy uh going in a cookie...</td>\n      <td>1</td>\n    </tr>\n    <tr>\n      <th>65</th>\n      <td>003-0.txt</td>\n      <td>Here's a cookie jar . And the lid is off the c...</td>\n      <td>1</td>\n    </tr>\n    <tr>\n      <th>30</th>\n      <td>005-0.txt</td>\n      <td>The boy is slipping off the stool . He's tryin...</td>\n      <td>1</td>\n    </tr>\n    <tr>\n      <th>4</th>\n      <td>005-2.txt</td>\n      <td>Okay he's falling off a chair . She's uh runni...</td>\n      <td>1</td>\n    </tr>\n  </tbody>\n</table>\n</div>"
     },
     "execution_count": 11,
     "metadata": {},
     "output_type": "execute_result"
    }
   ],
   "source": [
    "import os\n",
    "import re\n",
    "\n",
    "def load_data(path):\n",
    "    data = []\n",
    "    for file in os.listdir(path):\n",
    "        if file.endswith('.txt'):\n",
    "            with open(os.path.join(path, file), 'r') as f:\n",
    "                text = f.read()\n",
    "                data.append([file, text, 1])\n",
    "    df = pd.DataFrame(data, columns=['file', 'text', 'label'])\n",
    "    \n",
    "    df = df.sort_values(by='file')\n",
    "    return df\n",
    "    \n",
    "\n",
    "path = '/Users/richardzeng/Desktop/EMNLP/experiments/DementiaBank/Dementia'\n",
    "df_dementia = load_data(path)\n",
    "df_dementia.head()"
   ],
   "metadata": {
    "collapsed": false,
    "ExecuteTime": {
     "end_time": "2024-05-30T12:22:44.516286Z",
     "start_time": "2024-05-30T12:22:44.476821Z"
    }
   },
   "execution_count": 11
  },
  {
   "cell_type": "code",
   "outputs": [
    {
     "name": "stdout",
     "output_type": "stream",
     "text": [
      "         file                                               text  label\n",
      "0   184-1.txt  Okay I see a boy in the cookie jar . I see he ...      1\n",
      "1   092-0.txt  Drew's in the kitchen and mother is drying a d...      0\n",
      "2   068-2.txt  Oh yes . Well uh the mother is washing the dis...      0\n",
      "3   350-0.txt  Girl washing dishes . I see that . Uh what the...      1\n",
      "4   306-0.txt  Whew . Uh do I have to use my my uh my persona...      1\n",
      "5   114-0.txt  Uhhuh . All of the action . Well the little bo...      0\n",
      "6   154-0.txt  Uh the boy is taking cookies out and giving th...      1\n",
      "7   002-3.txt  Okay . It was summertime and mother and the ch...      0\n",
      "8   465-0.txt  She's doing the dishes . He's on the cookie tr...      1\n",
      "9   338-0.txt  Uh the water's overflowing in the sink . The w...      1\n",
      "10  297-1.txt  Well there's a kid stealing cookies from the c...      0\n",
      "11  344-0.txt  Well the guy's getting in the the boy's gettin...      1\n",
      "12  229-1.txt  Okay . There's a child reaching for a cookie ....      0\n",
      "13  118-0.txt  The boy is giving his sister a cookie . And th...      0\n",
      "14  318-2.txt  Oh my . Well the ladder is falling over . And ...      0\n",
      "15  113-3.txt  Little boy getting in the cookie jar . And the...      0\n",
      "16  325-1.txt  Okay . The lady's washing the dishes like they...      1\n",
      "17  150-0.txt  Oh you mean things like the boy climbing up on...      0\n",
      "18  203-0.txt  Action . What's going on in the picture . Ther...      1\n",
      "19  138-1.txt  Okay . There's a cookie jar on the shelf . And...      0\n"
     ]
    }
   ],
   "source": [
    "# combine the two dataframes\n",
    "# Concatenate the two dataframes\n",
    "df = pd.concat([df_controls, df_dementia])\n",
    "\n",
    "# Shuffle the combined dataframe\n",
    "df = df.sample(frac=1).reset_index(drop=True)\n",
    "\n",
    "print(df.head(20))"
   ],
   "metadata": {
    "collapsed": false,
    "ExecuteTime": {
     "end_time": "2024-05-30T12:24:20.699483Z",
     "start_time": "2024-05-30T12:24:20.693208Z"
    }
   },
   "execution_count": 16
  },
  {
   "cell_type": "markdown",
   "source": [
    "## Exploratory data analysis ##"
   ],
   "metadata": {
    "collapsed": false
   }
  },
  {
   "cell_type": "code",
   "outputs": [
    {
     "data": {
      "text/plain": "label\n1    310\n0    241\nName: count, dtype: int64"
     },
     "execution_count": 19,
     "metadata": {},
     "output_type": "execute_result"
    }
   ],
   "source": [
    "# check the label distribution\n",
    "df['label'].value_counts()\n"
   ],
   "metadata": {
    "collapsed": false,
    "ExecuteTime": {
     "end_time": "2024-05-30T12:25:46.727493Z",
     "start_time": "2024-05-30T12:25:46.720780Z"
    }
   },
   "execution_count": 19
  },
  {
   "cell_type": "code",
   "outputs": [
    {
     "data": {
      "text/plain": "label                                                        0  \\\nfile count                                                 241   \n     unique                                                241   \n     top                                             092-0.txt   \n     freq                                                    1   \ntext count                                                 241   \n     unique                                                240   \n     top     Okay . Um you mean drying dishes . Uh overflow...   \n     freq                                                    2   \n\nlabel                                                        1  \nfile count                                                 310  \n     unique                                                310  \n     top                                             184-1.txt  \n     freq                                                    1  \ntext count                                                 310  \n     unique                                                310  \n     top     Okay I see a boy in the cookie jar . I see he ...  \n     freq                                                    1  ",
      "text/html": "<div>\n<style scoped>\n    .dataframe tbody tr th:only-of-type {\n        vertical-align: middle;\n    }\n\n    .dataframe tbody tr th {\n        vertical-align: top;\n    }\n\n    .dataframe thead th {\n        text-align: right;\n    }\n</style>\n<table border=\"1\" class=\"dataframe\">\n  <thead>\n    <tr style=\"text-align: right;\">\n      <th></th>\n      <th>label</th>\n      <th>0</th>\n      <th>1</th>\n    </tr>\n  </thead>\n  <tbody>\n    <tr>\n      <th rowspan=\"4\" valign=\"top\">file</th>\n      <th>count</th>\n      <td>241</td>\n      <td>310</td>\n    </tr>\n    <tr>\n      <th>unique</th>\n      <td>241</td>\n      <td>310</td>\n    </tr>\n    <tr>\n      <th>top</th>\n      <td>092-0.txt</td>\n      <td>184-1.txt</td>\n    </tr>\n    <tr>\n      <th>freq</th>\n      <td>1</td>\n      <td>1</td>\n    </tr>\n    <tr>\n      <th rowspan=\"4\" valign=\"top\">text</th>\n      <th>count</th>\n      <td>241</td>\n      <td>310</td>\n    </tr>\n    <tr>\n      <th>unique</th>\n      <td>240</td>\n      <td>310</td>\n    </tr>\n    <tr>\n      <th>top</th>\n      <td>Okay . Um you mean drying dishes . Uh overflow...</td>\n      <td>Okay I see a boy in the cookie jar . I see he ...</td>\n    </tr>\n    <tr>\n      <th>freq</th>\n      <td>2</td>\n      <td>1</td>\n    </tr>\n  </tbody>\n</table>\n</div>"
     },
     "execution_count": 20,
     "metadata": {},
     "output_type": "execute_result"
    }
   ],
   "source": [
    "df.groupby('label').describe().T"
   ],
   "metadata": {
    "collapsed": false,
    "ExecuteTime": {
     "end_time": "2024-05-30T12:26:05.755335Z",
     "start_time": "2024-05-30T12:26:05.738141Z"
    }
   },
   "execution_count": 20
  },
  {
   "cell_type": "code",
   "outputs": [
    {
     "data": {
      "text/plain": "<Figure size 640x480 with 1 Axes>",
      "image/png": "[encoded data removed]"
     },
     "metadata": {},
     "output_type": "display_data"
    }
   ],
   "source": [
    "#plot the distribution of the text length\n",
    "import matplotlib.pyplot as plt\n",
    "\n",
    "df['text_length'] = df['text'].apply(len)\n",
    "df['text_length'].plot(kind='hist', bins=50)\n",
    "plt.xlabel('Text Length')\n",
    "plt.ylabel('Frequency')\n",
    "plt.title('Distribution of Text Length')\n",
    "\n",
    "plt.show()\n"
   ],
   "metadata": {
    "collapsed": false,
    "ExecuteTime": {
     "end_time": "2024-05-30T12:26:45.159515Z",
     "start_time": "2024-05-30T12:26:44.885306Z"
    }
   },
   "execution_count": 21
  },
  {
   "cell_type": "code",
   "outputs": [
    {
     "data": {
      "text/plain": "count     551.000000\nmean      545.901996\nstd       286.728509\nmin        90.000000\n25%       354.000000\n50%       483.000000\n75%       658.000000\nmax      2614.000000\nName: text_length, dtype: float64"
     },
     "execution_count": 23,
     "metadata": {},
     "output_type": "execute_result"
    }
   ],
   "source": [
    "# check the average text length, min and max text length\n",
    "df['text_length'].describe()\n"
   ],
   "metadata": {
    "collapsed": false,
    "ExecuteTime": {
     "end_time": "2024-05-30T12:31:33.499771Z",
     "start_time": "2024-05-30T12:31:33.492027Z"
    }
   },
   "execution_count": 23
  },
  {
   "cell_type": "code",
   "outputs": [
    {
     "data": {
      "text/plain": "          file                                               text  label  \\\n485  128-3.txt  Oh it's the same picture . You should give me ...      0   \n284  128-2.txt  Oh I remember this one . This is great . Okay ...      0   \n239  157-1.txt  This picture . Well there's a kid on a stool ....      1   \n268  207-0.txt  Yes . The water . Well let's see . There's som...      1   \n254  268-0.txt  The pearl mom's getting her wet feet wet becau...      1   \n465  121-0.txt  Alright . The boy is taking a cookie out of th...      0   \n303  029-1.txt  Alright . I see the little boy stealing cookie...      1   \n469  243-0.txt  Okay the picture's in a kitchen uh with uh a f...      0   \n69   076-2.txt  Oh my . You mean how much or just the ones . O...      1   \n466  086-0.txt  Oh I was xxx . Oh this is going to be like loo...      0   \n150  010-2.txt  What's happening there . Oh my . Poor kids . H...      1   \n160  017-4.txt  Are you ready . Um well the sink is overflowin...      0   \n332  010-0.txt  Oh boy . Wowie the boy's going up on a cookiej...      1   \n220  206-0.txt  Well the mother is drying the plate . And the ...      1   \n280  015-2.txt  This is the one where I insisted the tree does...      0   \n222  128-1.txt  Oh I remember this one . Okay . The mom's doin...      0   \n433  244-0.txt  The chair is tilting . Uh lid is off of the co...      1   \n91   065-2.txt  Alright let's start over here . The little boy...      1   \n157  221-0.txt  You just want me to start talking . Well the l...      1   \n366  018-0.txt  Well uh the kids are are xxx in the corner . U...      1   \n\n     text_length  \n485         2614  \n284         1948  \n239         1934  \n268         1679  \n254         1588  \n465         1557  \n303         1507  \n469         1450  \n69          1385  \n466         1328  \n150         1323  \n160         1321  \n332         1291  \n220         1237  \n280         1237  \n222         1211  \n433         1199  \n91          1194  \n157         1188  \n366         1180  ",
      "text/html": "<div>\n<style scoped>\n    .dataframe tbody tr th:only-of-type {\n        vertical-align: middle;\n    }\n\n    .dataframe tbody tr th {\n        vertical-align: top;\n    }\n\n    .dataframe thead th {\n        text-align: right;\n    }\n</style>\n<table border=\"1\" class=\"dataframe\">\n  <thead>\n    <tr style=\"text-align: right;\">\n      <th></th>\n      <th>file</th>\n      <th>text</th>\n      <th>label</th>\n      <th>text_length</th>\n    </tr>\n  </thead>\n  <tbody>\n    <tr>\n      <th>485</th>\n      <td>128-3.txt</td>\n      <td>Oh it's the same picture . You should give me ...</td>\n      <td>0</td>\n      <td>2614</td>\n    </tr>\n    <tr>\n      <th>284</th>\n      <td>128-2.txt</td>\n      <td>Oh I remember this one . This is great . Okay ...</td>\n      <td>0</td>\n      <td>1948</td>\n    </tr>\n    <tr>\n      <th>239</th>\n      <td>157-1.txt</td>\n      <td>This picture . Well there's a kid on a stool ....</td>\n      <td>1</td>\n      <td>1934</td>\n    </tr>\n    <tr>\n      <th>268</th>\n      <td>207-0.txt</td>\n      <td>Yes . The water . Well let's see . There's som...</td>\n      <td>1</td>\n      <td>1679</td>\n    </tr>\n    <tr>\n      <th>254</th>\n      <td>268-0.txt</td>\n      <td>The pearl mom's getting her wet feet wet becau...</td>\n      <td>1</td>\n      <td>1588</td>\n    </tr>\n    <tr>\n      <th>465</th>\n      <td>121-0.txt</td>\n      <td>Alright . The boy is taking a cookie out of th...</td>\n      <td>0</td>\n      <td>1557</td>\n    </tr>\n    <tr>\n      <th>303</th>\n      <td>029-1.txt</td>\n      <td>Alright . I see the little boy stealing cookie...</td>\n      <td>1</td>\n      <td>1507</td>\n    </tr>\n    <tr>\n      <th>469</th>\n      <td>243-0.txt</td>\n      <td>Okay the picture's in a kitchen uh with uh a f...</td>\n      <td>0</td>\n      <td>1450</td>\n    </tr>\n    <tr>\n      <th>69</th>\n      <td>076-2.txt</td>\n      <td>Oh my . You mean how much or just the ones . O...</td>\n      <td>1</td>\n      <td>1385</td>\n    </tr>\n    <tr>\n      <th>466</th>\n      <td>086-0.txt</td>\n      <td>Oh I was xxx . Oh this is going to be like loo...</td>\n      <td>0</td>\n      <td>1328</td>\n    </tr>\n    <tr>\n      <th>150</th>\n      <td>010-2.txt</td>\n      <td>What's happening there . Oh my . Poor kids . H...</td>\n      <td>1</td>\n      <td>1323</td>\n    </tr>\n    <tr>\n      <th>160</th>\n      <td>017-4.txt</td>\n      <td>Are you ready . Um well the sink is overflowin...</td>\n      <td>0</td>\n      <td>1321</td>\n    </tr>\n    <tr>\n      <th>332</th>\n      <td>010-0.txt</td>\n      <td>Oh boy . Wowie the boy's going up on a cookiej...</td>\n      <td>1</td>\n      <td>1291</td>\n    </tr>\n    <tr>\n      <th>220</th>\n      <td>206-0.txt</td>\n      <td>Well the mother is drying the plate . And the ...</td>\n      <td>1</td>\n      <td>1237</td>\n    </tr>\n    <tr>\n      <th>280</th>\n      <td>015-2.txt</td>\n      <td>This is the one where I insisted the tree does...</td>\n      <td>0</td>\n      <td>1237</td>\n    </tr>\n    <tr>\n      <th>222</th>\n      <td>128-1.txt</td>\n      <td>Oh I remember this one . Okay . The mom's doin...</td>\n      <td>0</td>\n      <td>1211</td>\n    </tr>\n    <tr>\n      <th>433</th>\n      <td>244-0.txt</td>\n      <td>The chair is tilting . Uh lid is off of the co...</td>\n      <td>1</td>\n      <td>1199</td>\n    </tr>\n    <tr>\n      <th>91</th>\n      <td>065-2.txt</td>\n      <td>Alright let's start over here . The little boy...</td>\n      <td>1</td>\n      <td>1194</td>\n    </tr>\n    <tr>\n      <th>157</th>\n      <td>221-0.txt</td>\n      <td>You just want me to start talking . Well the l...</td>\n      <td>1</td>\n      <td>1188</td>\n    </tr>\n    <tr>\n      <th>366</th>\n      <td>018-0.txt</td>\n      <td>Well uh the kids are are xxx in the corner . U...</td>\n      <td>1</td>\n      <td>1180</td>\n    </tr>\n  </tbody>\n</table>\n</div>"
     },
     "execution_count": 28,
     "metadata": {},
     "output_type": "execute_result"
    }
   ],
   "source": [
    "df.sort_values(by=['text_length'], ascending=False).head(20)"
   ],
   "metadata": {
    "collapsed": false,
    "ExecuteTime": {
     "end_time": "2024-05-30T12:35:06.546111Z",
     "start_time": "2024-05-30T12:35:06.535759Z"
    }
   },
   "execution_count": 28
  },
  {
   "cell_type": "code",
   "outputs": [
    {
     "data": {
      "text/plain": "label\n1    290\n0    226\nName: count, dtype: int64"
     },
     "execution_count": 29,
     "metadata": {},
     "output_type": "execute_result"
    }
   ],
   "source": [
    "#remove the text length that is greater than 1000\n",
    "df = df[df['text_length'] <= 1000]\n",
    "\n",
    "#check the distribution of the label after removing the text length that is greater than 1000\n",
    "df['label'].value_counts()"
   ],
   "metadata": {
    "collapsed": false,
    "ExecuteTime": {
     "end_time": "2024-05-30T12:36:29.582461Z",
     "start_time": "2024-05-30T12:36:29.575141Z"
    }
   },
   "execution_count": 29
  },
  {
   "cell_type": "markdown",
   "source": [
    "## Preprocessing ##"
   ],
   "metadata": {
    "collapsed": false
   }
  },
  {
   "cell_type": "code",
   "outputs": [],
   "source": [
    "#train test split\n",
    "from sklearn.model_selection import train_test_split\n",
    "train_data, test_data = train_test_split(df, test_size=0.3, random_state=42)\n",
    "\n"
   ],
   "metadata": {
    "collapsed": false,
    "ExecuteTime": {
     "end_time": "2024-05-30T12:37:51.060914Z",
     "start_time": "2024-05-30T12:37:50.888159Z"
    }
   },
   "execution_count": 30
  },
  {
   "cell_type": "markdown",
   "source": [],
   "metadata": {
    "collapsed": false
   }
  },
  {
   "cell_type": "code",
   "outputs": [
    {
     "name": "stderr",
     "output_type": "stream",
     "text": [
      "Some weights of BertForSequenceClassification were not initialized from the model checkpoint at bert-base-uncased and are newly initialized: ['classifier.bias', 'classifier.weight']\n",
      "You should probably TRAIN this model on a down-stream task to be able to use it for predictions and inference.\n",
      "/Users/richardzeng/opt/anaconda3/envs/EMNLP/lib/python3.11/site-packages/transformers/training_args.py:1474: FutureWarning: `evaluation_strategy` is deprecated and will be removed in version 4.46 of 🤗 Transformers. Use `eval_strategy` instead\n",
      "  warnings.warn(\n",
      "/var/folders/l9/qqb85lxn7d38y07pzrx88zvw0000gn/T/ipykernel_55077/546552507.py:34: UserWarning: To copy construct from a tensor, it is recommended to use sourceTensor.clone().detach() or sourceTensor.clone().detach().requires_grad_(True), rather than torch.tensor(sourceTensor).\n",
      "  item = {key: torch.tensor(val[idx]) for key, val in self.encodings.items()}\n"
     ]
    },
    {
     "data": {
      "text/plain": "<IPython.core.display.HTML object>",
      "text/html": "\n    <div>\n      \n      <progress value='24' max='460' style='width:300px; height:20px; vertical-align: middle;'></progress>\n      [ 24/460 02:00 < 39:53, 0.18 it/s, Epoch 1/20]\n    </div>\n    <table border=\"1\" class=\"dataframe\">\n  <thead>\n <tr style=\"text-align: left;\">\n      <th>Epoch</th>\n      <th>Training Loss</th>\n      <th>Validation Loss</th>\n      <th>Accuracy</th>\n      <th>Precision</th>\n      <th>Recall</th>\n      <th>F1</th>\n    </tr>\n  </thead>\n  <tbody>\n    <tr>\n      <td>1</td>\n      <td>0.693400</td>\n      <td>0.685926</td>\n      <td>0.574194</td>\n      <td>0.574194</td>\n      <td>1.000000</td>\n      <td>0.729508</td>\n    </tr>\n  </tbody>\n</table><p>"
     },
     "metadata": {},
     "output_type": "display_data"
    },
    {
     "data": {
      "text/plain": "<IPython.core.display.HTML object>",
      "text/html": "\n    <div>\n      \n      <progress value='47' max='460' style='width:300px; height:20px; vertical-align: middle;'></progress>\n      [ 47/460 03:51 < 35:24, 0.19 it/s, Epoch 2/20]\n    </div>\n    <table border=\"1\" class=\"dataframe\">\n  <thead>\n <tr style=\"text-align: left;\">\n      <th>Epoch</th>\n      <th>Training Loss</th>\n      <th>Validation Loss</th>\n      <th>Accuracy</th>\n      <th>Precision</th>\n      <th>Recall</th>\n      <th>F1</th>\n    </tr>\n  </thead>\n  <tbody>\n    <tr>\n      <td>1</td>\n      <td>0.693400</td>\n      <td>0.685926</td>\n      <td>0.574194</td>\n      <td>0.574194</td>\n      <td>1.000000</td>\n      <td>0.729508</td>\n    </tr>\n    <tr>\n      <td>2</td>\n      <td>0.683900</td>\n      <td>0.682431</td>\n      <td>0.574194</td>\n      <td>0.574194</td>\n      <td>1.000000</td>\n      <td>0.729508</td>\n    </tr>\n  </tbody>\n</table><p>"
     },
     "metadata": {},
     "output_type": "display_data"
    },
    {
     "data": {
      "text/plain": "<IPython.core.display.HTML object>",
      "text/html": "\n    <div>\n      \n      <progress value='70' max='460' style='width:300px; height:20px; vertical-align: middle;'></progress>\n      [ 70/460 06:27 < 37:04, 0.18 it/s, Epoch 3/20]\n    </div>\n    <table border=\"1\" class=\"dataframe\">\n  <thead>\n <tr style=\"text-align: left;\">\n      <th>Epoch</th>\n      <th>Training Loss</th>\n      <th>Validation Loss</th>\n      <th>Accuracy</th>\n      <th>Precision</th>\n      <th>Recall</th>\n      <th>F1</th>\n    </tr>\n  </thead>\n  <tbody>\n    <tr>\n      <td>1</td>\n      <td>0.693400</td>\n      <td>0.685926</td>\n      <td>0.574194</td>\n      <td>0.574194</td>\n      <td>1.000000</td>\n      <td>0.729508</td>\n    </tr>\n    <tr>\n      <td>2</td>\n      <td>0.683900</td>\n      <td>0.682431</td>\n      <td>0.574194</td>\n      <td>0.574194</td>\n      <td>1.000000</td>\n      <td>0.729508</td>\n    </tr>\n    <tr>\n      <td>3</td>\n      <td>0.680300</td>\n      <td>0.676871</td>\n      <td>0.574194</td>\n      <td>0.575163</td>\n      <td>0.988764</td>\n      <td>0.727273</td>\n    </tr>\n  </tbody>\n</table><p>"
     },
     "metadata": {},
     "output_type": "display_data"
    },
    {
     "data": {
      "text/plain": "<IPython.core.display.HTML object>",
      "text/html": "\n    <div>\n      \n      <progress value='93' max='460' style='width:300px; height:20px; vertical-align: middle;'></progress>\n      [ 93/460 09:08 < 36:50, 0.17 it/s, Epoch 4/20]\n    </div>\n    <table border=\"1\" class=\"dataframe\">\n  <thead>\n <tr style=\"text-align: left;\">\n      <th>Epoch</th>\n      <th>Training Loss</th>\n      <th>Validation Loss</th>\n      <th>Accuracy</th>\n      <th>Precision</th>\n      <th>Recall</th>\n      <th>F1</th>\n    </tr>\n  </thead>\n  <tbody>\n    <tr>\n      <td>1</td>\n      <td>0.693400</td>\n      <td>0.685926</td>\n      <td>0.574194</td>\n      <td>0.574194</td>\n      <td>1.000000</td>\n      <td>0.729508</td>\n    </tr>\n    <tr>\n      <td>2</td>\n      <td>0.683900</td>\n      <td>0.682431</td>\n      <td>0.574194</td>\n      <td>0.574194</td>\n      <td>1.000000</td>\n      <td>0.729508</td>\n    </tr>\n    <tr>\n      <td>3</td>\n      <td>0.680300</td>\n      <td>0.676871</td>\n      <td>0.574194</td>\n      <td>0.575163</td>\n      <td>0.988764</td>\n      <td>0.727273</td>\n    </tr>\n    <tr>\n      <td>4</td>\n      <td>0.667400</td>\n      <td>0.667204</td>\n      <td>0.600000</td>\n      <td>0.590604</td>\n      <td>0.988764</td>\n      <td>0.739496</td>\n    </tr>\n  </tbody>\n</table><p>"
     },
     "metadata": {},
     "output_type": "display_data"
    },
    {
     "data": {
      "text/plain": "<IPython.core.display.HTML object>",
      "text/html": "\n    <div>\n      \n      <progress value='116' max='460' style='width:300px; height:20px; vertical-align: middle;'></progress>\n      [116/460 11:14 < 33:56, 0.17 it/s, Epoch 5/20]\n    </div>\n    <table border=\"1\" class=\"dataframe\">\n  <thead>\n <tr style=\"text-align: left;\">\n      <th>Epoch</th>\n      <th>Training Loss</th>\n      <th>Validation Loss</th>\n      <th>Accuracy</th>\n      <th>Precision</th>\n      <th>Recall</th>\n      <th>F1</th>\n    </tr>\n  </thead>\n  <tbody>\n    <tr>\n      <td>1</td>\n      <td>0.693400</td>\n      <td>0.685926</td>\n      <td>0.574194</td>\n      <td>0.574194</td>\n      <td>1.000000</td>\n      <td>0.729508</td>\n    </tr>\n    <tr>\n      <td>2</td>\n      <td>0.683900</td>\n      <td>0.682431</td>\n      <td>0.574194</td>\n      <td>0.574194</td>\n      <td>1.000000</td>\n      <td>0.729508</td>\n    </tr>\n    <tr>\n      <td>3</td>\n      <td>0.680300</td>\n      <td>0.676871</td>\n      <td>0.574194</td>\n      <td>0.575163</td>\n      <td>0.988764</td>\n      <td>0.727273</td>\n    </tr>\n    <tr>\n      <td>4</td>\n      <td>0.667400</td>\n      <td>0.667204</td>\n      <td>0.600000</td>\n      <td>0.590604</td>\n      <td>0.988764</td>\n      <td>0.739496</td>\n    </tr>\n    <tr>\n      <td>5</td>\n      <td>0.644200</td>\n      <td>0.651714</td>\n      <td>0.651613</td>\n      <td>0.673267</td>\n      <td>0.764045</td>\n      <td>0.715789</td>\n    </tr>\n  </tbody>\n</table><p>"
     },
     "metadata": {},
     "output_type": "display_data"
    },
    {
     "data": {
      "text/plain": "<IPython.core.display.HTML object>",
      "text/html": "\n    <div>\n      \n      <progress value='139' max='460' style='width:300px; height:20px; vertical-align: middle;'></progress>\n      [139/460 13:40 < 32:02, 0.17 it/s, Epoch 6/20]\n    </div>\n    <table border=\"1\" class=\"dataframe\">\n  <thead>\n <tr style=\"text-align: left;\">\n      <th>Epoch</th>\n      <th>Training Loss</th>\n      <th>Validation Loss</th>\n      <th>Accuracy</th>\n      <th>Precision</th>\n      <th>Recall</th>\n      <th>F1</th>\n    </tr>\n  </thead>\n  <tbody>\n    <tr>\n      <td>1</td>\n      <td>0.693400</td>\n      <td>0.685926</td>\n      <td>0.574194</td>\n      <td>0.574194</td>\n      <td>1.000000</td>\n      <td>0.729508</td>\n    </tr>\n    <tr>\n      <td>2</td>\n      <td>0.683900</td>\n      <td>0.682431</td>\n      <td>0.574194</td>\n      <td>0.574194</td>\n      <td>1.000000</td>\n      <td>0.729508</td>\n    </tr>\n    <tr>\n      <td>3</td>\n      <td>0.680300</td>\n      <td>0.676871</td>\n      <td>0.574194</td>\n      <td>0.575163</td>\n      <td>0.988764</td>\n      <td>0.727273</td>\n    </tr>\n    <tr>\n      <td>4</td>\n      <td>0.667400</td>\n      <td>0.667204</td>\n      <td>0.600000</td>\n      <td>0.590604</td>\n      <td>0.988764</td>\n      <td>0.739496</td>\n    </tr>\n    <tr>\n      <td>5</td>\n      <td>0.644200</td>\n      <td>0.651714</td>\n      <td>0.651613</td>\n      <td>0.673267</td>\n      <td>0.764045</td>\n      <td>0.715789</td>\n    </tr>\n    <tr>\n      <td>6</td>\n      <td>0.631300</td>\n      <td>0.620527</td>\n      <td>0.703226</td>\n      <td>0.741573</td>\n      <td>0.741573</td>\n      <td>0.741573</td>\n    </tr>\n  </tbody>\n</table><p>"
     },
     "metadata": {},
     "output_type": "display_data"
    },
    {
     "data": {
      "text/plain": "<IPython.core.display.HTML object>",
      "text/html": "\n    <div>\n      \n      <progress value='162' max='460' style='width:300px; height:20px; vertical-align: middle;'></progress>\n      [162/460 16:00 < 29:48, 0.17 it/s, Epoch 7/20]\n    </div>\n    <table border=\"1\" class=\"dataframe\">\n  <thead>\n <tr style=\"text-align: left;\">\n      <th>Epoch</th>\n      <th>Training Loss</th>\n      <th>Validation Loss</th>\n      <th>Accuracy</th>\n      <th>Precision</th>\n      <th>Recall</th>\n      <th>F1</th>\n    </tr>\n  </thead>\n  <tbody>\n    <tr>\n      <td>1</td>\n      <td>0.693400</td>\n      <td>0.685926</td>\n      <td>0.574194</td>\n      <td>0.574194</td>\n      <td>1.000000</td>\n      <td>0.729508</td>\n    </tr>\n    <tr>\n      <td>2</td>\n      <td>0.683900</td>\n      <td>0.682431</td>\n      <td>0.574194</td>\n      <td>0.574194</td>\n      <td>1.000000</td>\n      <td>0.729508</td>\n    </tr>\n    <tr>\n      <td>3</td>\n      <td>0.680300</td>\n      <td>0.676871</td>\n      <td>0.574194</td>\n      <td>0.575163</td>\n      <td>0.988764</td>\n      <td>0.727273</td>\n    </tr>\n    <tr>\n      <td>4</td>\n      <td>0.667400</td>\n      <td>0.667204</td>\n      <td>0.600000</td>\n      <td>0.590604</td>\n      <td>0.988764</td>\n      <td>0.739496</td>\n    </tr>\n    <tr>\n      <td>5</td>\n      <td>0.644200</td>\n      <td>0.651714</td>\n      <td>0.651613</td>\n      <td>0.673267</td>\n      <td>0.764045</td>\n      <td>0.715789</td>\n    </tr>\n    <tr>\n      <td>6</td>\n      <td>0.631300</td>\n      <td>0.620527</td>\n      <td>0.703226</td>\n      <td>0.741573</td>\n      <td>0.741573</td>\n      <td>0.741573</td>\n    </tr>\n    <tr>\n      <td>7</td>\n      <td>0.555400</td>\n      <td>0.593138</td>\n      <td>0.683871</td>\n      <td>0.812500</td>\n      <td>0.584270</td>\n      <td>0.679739</td>\n    </tr>\n  </tbody>\n</table><p>"
     },
     "metadata": {},
     "output_type": "display_data"
    },
    {
     "data": {
      "text/plain": "<IPython.core.display.HTML object>",
      "text/html": "\n    <div>\n      \n      <progress value='185' max='460' style='width:300px; height:20px; vertical-align: middle;'></progress>\n      [185/460 18:11 < 27:20, 0.17 it/s, Epoch 8/20]\n    </div>\n    <table border=\"1\" class=\"dataframe\">\n  <thead>\n <tr style=\"text-align: left;\">\n      <th>Epoch</th>\n      <th>Training Loss</th>\n      <th>Validation Loss</th>\n      <th>Accuracy</th>\n      <th>Precision</th>\n      <th>Recall</th>\n      <th>F1</th>\n    </tr>\n  </thead>\n  <tbody>\n    <tr>\n      <td>1</td>\n      <td>0.693400</td>\n      <td>0.685926</td>\n      <td>0.574194</td>\n      <td>0.574194</td>\n      <td>1.000000</td>\n      <td>0.729508</td>\n    </tr>\n    <tr>\n      <td>2</td>\n      <td>0.683900</td>\n      <td>0.682431</td>\n      <td>0.574194</td>\n      <td>0.574194</td>\n      <td>1.000000</td>\n      <td>0.729508</td>\n    </tr>\n    <tr>\n      <td>3</td>\n      <td>0.680300</td>\n      <td>0.676871</td>\n      <td>0.574194</td>\n      <td>0.575163</td>\n      <td>0.988764</td>\n      <td>0.727273</td>\n    </tr>\n    <tr>\n      <td>4</td>\n      <td>0.667400</td>\n      <td>0.667204</td>\n      <td>0.600000</td>\n      <td>0.590604</td>\n      <td>0.988764</td>\n      <td>0.739496</td>\n    </tr>\n    <tr>\n      <td>5</td>\n      <td>0.644200</td>\n      <td>0.651714</td>\n      <td>0.651613</td>\n      <td>0.673267</td>\n      <td>0.764045</td>\n      <td>0.715789</td>\n    </tr>\n    <tr>\n      <td>6</td>\n      <td>0.631300</td>\n      <td>0.620527</td>\n      <td>0.703226</td>\n      <td>0.741573</td>\n      <td>0.741573</td>\n      <td>0.741573</td>\n    </tr>\n    <tr>\n      <td>7</td>\n      <td>0.555400</td>\n      <td>0.593138</td>\n      <td>0.683871</td>\n      <td>0.812500</td>\n      <td>0.584270</td>\n      <td>0.679739</td>\n    </tr>\n    <tr>\n      <td>8</td>\n      <td>0.484400</td>\n      <td>0.555982</td>\n      <td>0.729032</td>\n      <td>0.805195</td>\n      <td>0.696629</td>\n      <td>0.746988</td>\n    </tr>\n  </tbody>\n</table><p>"
     },
     "metadata": {},
     "output_type": "display_data"
    },
    {
     "data": {
      "text/plain": "<IPython.core.display.HTML object>",
      "text/html": "\n    <div>\n      \n      <progress value='208' max='460' style='width:300px; height:20px; vertical-align: middle;'></progress>\n      [208/460 20:52 < 25:32, 0.16 it/s, Epoch 9/20]\n    </div>\n    <table border=\"1\" class=\"dataframe\">\n  <thead>\n <tr style=\"text-align: left;\">\n      <th>Epoch</th>\n      <th>Training Loss</th>\n      <th>Validation Loss</th>\n      <th>Accuracy</th>\n      <th>Precision</th>\n      <th>Recall</th>\n      <th>F1</th>\n    </tr>\n  </thead>\n  <tbody>\n    <tr>\n      <td>1</td>\n      <td>0.693400</td>\n      <td>0.685926</td>\n      <td>0.574194</td>\n      <td>0.574194</td>\n      <td>1.000000</td>\n      <td>0.729508</td>\n    </tr>\n    <tr>\n      <td>2</td>\n      <td>0.683900</td>\n      <td>0.682431</td>\n      <td>0.574194</td>\n      <td>0.574194</td>\n      <td>1.000000</td>\n      <td>0.729508</td>\n    </tr>\n    <tr>\n      <td>3</td>\n      <td>0.680300</td>\n      <td>0.676871</td>\n      <td>0.574194</td>\n      <td>0.575163</td>\n      <td>0.988764</td>\n      <td>0.727273</td>\n    </tr>\n    <tr>\n      <td>4</td>\n      <td>0.667400</td>\n      <td>0.667204</td>\n      <td>0.600000</td>\n      <td>0.590604</td>\n      <td>0.988764</td>\n      <td>0.739496</td>\n    </tr>\n    <tr>\n      <td>5</td>\n      <td>0.644200</td>\n      <td>0.651714</td>\n      <td>0.651613</td>\n      <td>0.673267</td>\n      <td>0.764045</td>\n      <td>0.715789</td>\n    </tr>\n    <tr>\n      <td>6</td>\n      <td>0.631300</td>\n      <td>0.620527</td>\n      <td>0.703226</td>\n      <td>0.741573</td>\n      <td>0.741573</td>\n      <td>0.741573</td>\n    </tr>\n    <tr>\n      <td>7</td>\n      <td>0.555400</td>\n      <td>0.593138</td>\n      <td>0.683871</td>\n      <td>0.812500</td>\n      <td>0.584270</td>\n      <td>0.679739</td>\n    </tr>\n    <tr>\n      <td>8</td>\n      <td>0.484400</td>\n      <td>0.555982</td>\n      <td>0.729032</td>\n      <td>0.805195</td>\n      <td>0.696629</td>\n      <td>0.746988</td>\n    </tr>\n    <tr>\n      <td>9</td>\n      <td>0.478800</td>\n      <td>0.553012</td>\n      <td>0.709677</td>\n      <td>0.854839</td>\n      <td>0.595506</td>\n      <td>0.701987</td>\n    </tr>\n  </tbody>\n</table><p>"
     },
     "metadata": {},
     "output_type": "display_data"
    },
    {
     "data": {
      "text/plain": "<IPython.core.display.HTML object>",
      "text/html": "\n    <div>\n      \n      <progress value='231' max='460' style='width:300px; height:20px; vertical-align: middle;'></progress>\n      [231/460 24:32 < 24:32, 0.16 it/s, Epoch 10/20]\n    </div>\n    <table border=\"1\" class=\"dataframe\">\n  <thead>\n <tr style=\"text-align: left;\">\n      <th>Epoch</th>\n      <th>Training Loss</th>\n      <th>Validation Loss</th>\n      <th>Accuracy</th>\n      <th>Precision</th>\n      <th>Recall</th>\n      <th>F1</th>\n    </tr>\n  </thead>\n  <tbody>\n    <tr>\n      <td>1</td>\n      <td>0.693400</td>\n      <td>0.685926</td>\n      <td>0.574194</td>\n      <td>0.574194</td>\n      <td>1.000000</td>\n      <td>0.729508</td>\n    </tr>\n    <tr>\n      <td>2</td>\n      <td>0.683900</td>\n      <td>0.682431</td>\n      <td>0.574194</td>\n      <td>0.574194</td>\n      <td>1.000000</td>\n      <td>0.729508</td>\n    </tr>\n    <tr>\n      <td>3</td>\n      <td>0.680300</td>\n      <td>0.676871</td>\n      <td>0.574194</td>\n      <td>0.575163</td>\n      <td>0.988764</td>\n      <td>0.727273</td>\n    </tr>\n    <tr>\n      <td>4</td>\n      <td>0.667400</td>\n      <td>0.667204</td>\n      <td>0.600000</td>\n      <td>0.590604</td>\n      <td>0.988764</td>\n      <td>0.739496</td>\n    </tr>\n    <tr>\n      <td>5</td>\n      <td>0.644200</td>\n      <td>0.651714</td>\n      <td>0.651613</td>\n      <td>0.673267</td>\n      <td>0.764045</td>\n      <td>0.715789</td>\n    </tr>\n    <tr>\n      <td>6</td>\n      <td>0.631300</td>\n      <td>0.620527</td>\n      <td>0.703226</td>\n      <td>0.741573</td>\n      <td>0.741573</td>\n      <td>0.741573</td>\n    </tr>\n    <tr>\n      <td>7</td>\n      <td>0.555400</td>\n      <td>0.593138</td>\n      <td>0.683871</td>\n      <td>0.812500</td>\n      <td>0.584270</td>\n      <td>0.679739</td>\n    </tr>\n    <tr>\n      <td>8</td>\n      <td>0.484400</td>\n      <td>0.555982</td>\n      <td>0.729032</td>\n      <td>0.805195</td>\n      <td>0.696629</td>\n      <td>0.746988</td>\n    </tr>\n    <tr>\n      <td>9</td>\n      <td>0.478800</td>\n      <td>0.553012</td>\n      <td>0.709677</td>\n      <td>0.854839</td>\n      <td>0.595506</td>\n      <td>0.701987</td>\n    </tr>\n    <tr>\n      <td>10</td>\n      <td>0.416400</td>\n      <td>0.556414</td>\n      <td>0.716129</td>\n      <td>0.868852</td>\n      <td>0.595506</td>\n      <td>0.706667</td>\n    </tr>\n  </tbody>\n</table><p>"
     },
     "metadata": {},
     "output_type": "display_data"
    },
    {
     "data": {
      "text/plain": "<IPython.core.display.HTML object>",
      "text/html": "\n    <div>\n      \n      <progress value='254' max='460' style='width:300px; height:20px; vertical-align: middle;'></progress>\n      [254/460 27:11 < 22:13, 0.15 it/s, Epoch 11/20]\n    </div>\n    <table border=\"1\" class=\"dataframe\">\n  <thead>\n <tr style=\"text-align: left;\">\n      <th>Epoch</th>\n      <th>Training Loss</th>\n      <th>Validation Loss</th>\n      <th>Accuracy</th>\n      <th>Precision</th>\n      <th>Recall</th>\n      <th>F1</th>\n    </tr>\n  </thead>\n  <tbody>\n    <tr>\n      <td>1</td>\n      <td>0.693400</td>\n      <td>0.685926</td>\n      <td>0.574194</td>\n      <td>0.574194</td>\n      <td>1.000000</td>\n      <td>0.729508</td>\n    </tr>\n    <tr>\n      <td>2</td>\n      <td>0.683900</td>\n      <td>0.682431</td>\n      <td>0.574194</td>\n      <td>0.574194</td>\n      <td>1.000000</td>\n      <td>0.729508</td>\n    </tr>\n    <tr>\n      <td>3</td>\n      <td>0.680300</td>\n      <td>0.676871</td>\n      <td>0.574194</td>\n      <td>0.575163</td>\n      <td>0.988764</td>\n      <td>0.727273</td>\n    </tr>\n    <tr>\n      <td>4</td>\n      <td>0.667400</td>\n      <td>0.667204</td>\n      <td>0.600000</td>\n      <td>0.590604</td>\n      <td>0.988764</td>\n      <td>0.739496</td>\n    </tr>\n    <tr>\n      <td>5</td>\n      <td>0.644200</td>\n      <td>0.651714</td>\n      <td>0.651613</td>\n      <td>0.673267</td>\n      <td>0.764045</td>\n      <td>0.715789</td>\n    </tr>\n    <tr>\n      <td>6</td>\n      <td>0.631300</td>\n      <td>0.620527</td>\n      <td>0.703226</td>\n      <td>0.741573</td>\n      <td>0.741573</td>\n      <td>0.741573</td>\n    </tr>\n    <tr>\n      <td>7</td>\n      <td>0.555400</td>\n      <td>0.593138</td>\n      <td>0.683871</td>\n      <td>0.812500</td>\n      <td>0.584270</td>\n      <td>0.679739</td>\n    </tr>\n    <tr>\n      <td>8</td>\n      <td>0.484400</td>\n      <td>0.555982</td>\n      <td>0.729032</td>\n      <td>0.805195</td>\n      <td>0.696629</td>\n      <td>0.746988</td>\n    </tr>\n    <tr>\n      <td>9</td>\n      <td>0.478800</td>\n      <td>0.553012</td>\n      <td>0.709677</td>\n      <td>0.854839</td>\n      <td>0.595506</td>\n      <td>0.701987</td>\n    </tr>\n    <tr>\n      <td>10</td>\n      <td>0.416400</td>\n      <td>0.556414</td>\n      <td>0.716129</td>\n      <td>0.868852</td>\n      <td>0.595506</td>\n      <td>0.706667</td>\n    </tr>\n    <tr>\n      <td>11</td>\n      <td>0.369900</td>\n      <td>0.548397</td>\n      <td>0.716129</td>\n      <td>0.846154</td>\n      <td>0.617978</td>\n      <td>0.714286</td>\n    </tr>\n  </tbody>\n</table><p>"
     },
     "metadata": {},
     "output_type": "display_data"
    },
    {
     "data": {
      "text/plain": "<IPython.core.display.HTML object>",
      "text/html": "\n    <div>\n      \n      <progress value='277' max='460' style='width:300px; height:20px; vertical-align: middle;'></progress>\n      [277/460 29:38 < 19:43, 0.15 it/s, Epoch 12/20]\n    </div>\n    <table border=\"1\" class=\"dataframe\">\n  <thead>\n <tr style=\"text-align: left;\">\n      <th>Epoch</th>\n      <th>Training Loss</th>\n      <th>Validation Loss</th>\n      <th>Accuracy</th>\n      <th>Precision</th>\n      <th>Recall</th>\n      <th>F1</th>\n    </tr>\n  </thead>\n  <tbody>\n    <tr>\n      <td>1</td>\n      <td>0.693400</td>\n      <td>0.685926</td>\n      <td>0.574194</td>\n      <td>0.574194</td>\n      <td>1.000000</td>\n      <td>0.729508</td>\n    </tr>\n    <tr>\n      <td>2</td>\n      <td>0.683900</td>\n      <td>0.682431</td>\n      <td>0.574194</td>\n      <td>0.574194</td>\n      <td>1.000000</td>\n      <td>0.729508</td>\n    </tr>\n    <tr>\n      <td>3</td>\n      <td>0.680300</td>\n      <td>0.676871</td>\n      <td>0.574194</td>\n      <td>0.575163</td>\n      <td>0.988764</td>\n      <td>0.727273</td>\n    </tr>\n    <tr>\n      <td>4</td>\n      <td>0.667400</td>\n      <td>0.667204</td>\n      <td>0.600000</td>\n      <td>0.590604</td>\n      <td>0.988764</td>\n      <td>0.739496</td>\n    </tr>\n    <tr>\n      <td>5</td>\n      <td>0.644200</td>\n      <td>0.651714</td>\n      <td>0.651613</td>\n      <td>0.673267</td>\n      <td>0.764045</td>\n      <td>0.715789</td>\n    </tr>\n    <tr>\n      <td>6</td>\n      <td>0.631300</td>\n      <td>0.620527</td>\n      <td>0.703226</td>\n      <td>0.741573</td>\n      <td>0.741573</td>\n      <td>0.741573</td>\n    </tr>\n    <tr>\n      <td>7</td>\n      <td>0.555400</td>\n      <td>0.593138</td>\n      <td>0.683871</td>\n      <td>0.812500</td>\n      <td>0.584270</td>\n      <td>0.679739</td>\n    </tr>\n    <tr>\n      <td>8</td>\n      <td>0.484400</td>\n      <td>0.555982</td>\n      <td>0.729032</td>\n      <td>0.805195</td>\n      <td>0.696629</td>\n      <td>0.746988</td>\n    </tr>\n    <tr>\n      <td>9</td>\n      <td>0.478800</td>\n      <td>0.553012</td>\n      <td>0.709677</td>\n      <td>0.854839</td>\n      <td>0.595506</td>\n      <td>0.701987</td>\n    </tr>\n    <tr>\n      <td>10</td>\n      <td>0.416400</td>\n      <td>0.556414</td>\n      <td>0.716129</td>\n      <td>0.868852</td>\n      <td>0.595506</td>\n      <td>0.706667</td>\n    </tr>\n    <tr>\n      <td>11</td>\n      <td>0.369900</td>\n      <td>0.548397</td>\n      <td>0.716129</td>\n      <td>0.846154</td>\n      <td>0.617978</td>\n      <td>0.714286</td>\n    </tr>\n    <tr>\n      <td>12</td>\n      <td>0.298000</td>\n      <td>0.616173</td>\n      <td>0.703226</td>\n      <td>0.852459</td>\n      <td>0.584270</td>\n      <td>0.693333</td>\n    </tr>\n  </tbody>\n</table><p>"
     },
     "metadata": {},
     "output_type": "display_data"
    },
    {
     "data": {
      "text/plain": "<IPython.core.display.HTML object>",
      "text/html": "\n    <div>\n      \n      <progress value='300' max='460' style='width:300px; height:20px; vertical-align: middle;'></progress>\n      [300/460 32:32 < 17:28, 0.15 it/s, Epoch 13/20]\n    </div>\n    <table border=\"1\" class=\"dataframe\">\n  <thead>\n <tr style=\"text-align: left;\">\n      <th>Epoch</th>\n      <th>Training Loss</th>\n      <th>Validation Loss</th>\n      <th>Accuracy</th>\n      <th>Precision</th>\n      <th>Recall</th>\n      <th>F1</th>\n    </tr>\n  </thead>\n  <tbody>\n    <tr>\n      <td>1</td>\n      <td>0.693400</td>\n      <td>0.685926</td>\n      <td>0.574194</td>\n      <td>0.574194</td>\n      <td>1.000000</td>\n      <td>0.729508</td>\n    </tr>\n    <tr>\n      <td>2</td>\n      <td>0.683900</td>\n      <td>0.682431</td>\n      <td>0.574194</td>\n      <td>0.574194</td>\n      <td>1.000000</td>\n      <td>0.729508</td>\n    </tr>\n    <tr>\n      <td>3</td>\n      <td>0.680300</td>\n      <td>0.676871</td>\n      <td>0.574194</td>\n      <td>0.575163</td>\n      <td>0.988764</td>\n      <td>0.727273</td>\n    </tr>\n    <tr>\n      <td>4</td>\n      <td>0.667400</td>\n      <td>0.667204</td>\n      <td>0.600000</td>\n      <td>0.590604</td>\n      <td>0.988764</td>\n      <td>0.739496</td>\n    </tr>\n    <tr>\n      <td>5</td>\n      <td>0.644200</td>\n      <td>0.651714</td>\n      <td>0.651613</td>\n      <td>0.673267</td>\n      <td>0.764045</td>\n      <td>0.715789</td>\n    </tr>\n    <tr>\n      <td>6</td>\n      <td>0.631300</td>\n      <td>0.620527</td>\n      <td>0.703226</td>\n      <td>0.741573</td>\n      <td>0.741573</td>\n      <td>0.741573</td>\n    </tr>\n    <tr>\n      <td>7</td>\n      <td>0.555400</td>\n      <td>0.593138</td>\n      <td>0.683871</td>\n      <td>0.812500</td>\n      <td>0.584270</td>\n      <td>0.679739</td>\n    </tr>\n    <tr>\n      <td>8</td>\n      <td>0.484400</td>\n      <td>0.555982</td>\n      <td>0.729032</td>\n      <td>0.805195</td>\n      <td>0.696629</td>\n      <td>0.746988</td>\n    </tr>\n    <tr>\n      <td>9</td>\n      <td>0.478800</td>\n      <td>0.553012</td>\n      <td>0.709677</td>\n      <td>0.854839</td>\n      <td>0.595506</td>\n      <td>0.701987</td>\n    </tr>\n    <tr>\n      <td>10</td>\n      <td>0.416400</td>\n      <td>0.556414</td>\n      <td>0.716129</td>\n      <td>0.868852</td>\n      <td>0.595506</td>\n      <td>0.706667</td>\n    </tr>\n    <tr>\n      <td>11</td>\n      <td>0.369900</td>\n      <td>0.548397</td>\n      <td>0.716129</td>\n      <td>0.846154</td>\n      <td>0.617978</td>\n      <td>0.714286</td>\n    </tr>\n    <tr>\n      <td>12</td>\n      <td>0.298000</td>\n      <td>0.616173</td>\n      <td>0.703226</td>\n      <td>0.852459</td>\n      <td>0.584270</td>\n      <td>0.693333</td>\n    </tr>\n    <tr>\n      <td>13</td>\n      <td>0.182200</td>\n      <td>0.619930</td>\n      <td>0.741935</td>\n      <td>0.845070</td>\n      <td>0.674157</td>\n      <td>0.750000</td>\n    </tr>\n  </tbody>\n</table><p>"
     },
     "metadata": {},
     "output_type": "display_data"
    },
    {
     "data": {
      "text/plain": "<IPython.core.display.HTML object>",
      "text/html": "\n    <div>\n      \n      <progress value='323' max='460' style='width:300px; height:20px; vertical-align: middle;'></progress>\n      [323/460 35:42 < 15:14, 0.15 it/s, Epoch 14/20]\n    </div>\n    <table border=\"1\" class=\"dataframe\">\n  <thead>\n <tr style=\"text-align: left;\">\n      <th>Epoch</th>\n      <th>Training Loss</th>\n      <th>Validation Loss</th>\n      <th>Accuracy</th>\n      <th>Precision</th>\n      <th>Recall</th>\n      <th>F1</th>\n    </tr>\n  </thead>\n  <tbody>\n    <tr>\n      <td>1</td>\n      <td>0.693400</td>\n      <td>0.685926</td>\n      <td>0.574194</td>\n      <td>0.574194</td>\n      <td>1.000000</td>\n      <td>0.729508</td>\n    </tr>\n    <tr>\n      <td>2</td>\n      <td>0.683900</td>\n      <td>0.682431</td>\n      <td>0.574194</td>\n      <td>0.574194</td>\n      <td>1.000000</td>\n      <td>0.729508</td>\n    </tr>\n    <tr>\n      <td>3</td>\n      <td>0.680300</td>\n      <td>0.676871</td>\n      <td>0.574194</td>\n      <td>0.575163</td>\n      <td>0.988764</td>\n      <td>0.727273</td>\n    </tr>\n    <tr>\n      <td>4</td>\n      <td>0.667400</td>\n      <td>0.667204</td>\n      <td>0.600000</td>\n      <td>0.590604</td>\n      <td>0.988764</td>\n      <td>0.739496</td>\n    </tr>\n    <tr>\n      <td>5</td>\n      <td>0.644200</td>\n      <td>0.651714</td>\n      <td>0.651613</td>\n      <td>0.673267</td>\n      <td>0.764045</td>\n      <td>0.715789</td>\n    </tr>\n    <tr>\n      <td>6</td>\n      <td>0.631300</td>\n      <td>0.620527</td>\n      <td>0.703226</td>\n      <td>0.741573</td>\n      <td>0.741573</td>\n      <td>0.741573</td>\n    </tr>\n    <tr>\n      <td>7</td>\n      <td>0.555400</td>\n      <td>0.593138</td>\n      <td>0.683871</td>\n      <td>0.812500</td>\n      <td>0.584270</td>\n      <td>0.679739</td>\n    </tr>\n    <tr>\n      <td>8</td>\n      <td>0.484400</td>\n      <td>0.555982</td>\n      <td>0.729032</td>\n      <td>0.805195</td>\n      <td>0.696629</td>\n      <td>0.746988</td>\n    </tr>\n    <tr>\n      <td>9</td>\n      <td>0.478800</td>\n      <td>0.553012</td>\n      <td>0.709677</td>\n      <td>0.854839</td>\n      <td>0.595506</td>\n      <td>0.701987</td>\n    </tr>\n    <tr>\n      <td>10</td>\n      <td>0.416400</td>\n      <td>0.556414</td>\n      <td>0.716129</td>\n      <td>0.868852</td>\n      <td>0.595506</td>\n      <td>0.706667</td>\n    </tr>\n    <tr>\n      <td>11</td>\n      <td>0.369900</td>\n      <td>0.548397</td>\n      <td>0.716129</td>\n      <td>0.846154</td>\n      <td>0.617978</td>\n      <td>0.714286</td>\n    </tr>\n    <tr>\n      <td>12</td>\n      <td>0.298000</td>\n      <td>0.616173</td>\n      <td>0.703226</td>\n      <td>0.852459</td>\n      <td>0.584270</td>\n      <td>0.693333</td>\n    </tr>\n    <tr>\n      <td>13</td>\n      <td>0.182200</td>\n      <td>0.619930</td>\n      <td>0.741935</td>\n      <td>0.845070</td>\n      <td>0.674157</td>\n      <td>0.750000</td>\n    </tr>\n    <tr>\n      <td>14</td>\n      <td>0.221400</td>\n      <td>0.700778</td>\n      <td>0.729032</td>\n      <td>0.840580</td>\n      <td>0.651685</td>\n      <td>0.734177</td>\n    </tr>\n  </tbody>\n</table><p>"
     },
     "metadata": {},
     "output_type": "display_data"
    },
    {
     "data": {
      "text/plain": "<IPython.core.display.HTML object>",
      "text/html": "\n    <div>\n      \n      <progress value='346' max='460' style='width:300px; height:20px; vertical-align: middle;'></progress>\n      [346/460 39:05 < 12:57, 0.15 it/s, Epoch 15/20]\n    </div>\n    <table border=\"1\" class=\"dataframe\">\n  <thead>\n <tr style=\"text-align: left;\">\n      <th>Epoch</th>\n      <th>Training Loss</th>\n      <th>Validation Loss</th>\n      <th>Accuracy</th>\n      <th>Precision</th>\n      <th>Recall</th>\n      <th>F1</th>\n    </tr>\n  </thead>\n  <tbody>\n    <tr>\n      <td>1</td>\n      <td>0.693400</td>\n      <td>0.685926</td>\n      <td>0.574194</td>\n      <td>0.574194</td>\n      <td>1.000000</td>\n      <td>0.729508</td>\n    </tr>\n    <tr>\n      <td>2</td>\n      <td>0.683900</td>\n      <td>0.682431</td>\n      <td>0.574194</td>\n      <td>0.574194</td>\n      <td>1.000000</td>\n      <td>0.729508</td>\n    </tr>\n    <tr>\n      <td>3</td>\n      <td>0.680300</td>\n      <td>0.676871</td>\n      <td>0.574194</td>\n      <td>0.575163</td>\n      <td>0.988764</td>\n      <td>0.727273</td>\n    </tr>\n    <tr>\n      <td>4</td>\n      <td>0.667400</td>\n      <td>0.667204</td>\n      <td>0.600000</td>\n      <td>0.590604</td>\n      <td>0.988764</td>\n      <td>0.739496</td>\n    </tr>\n    <tr>\n      <td>5</td>\n      <td>0.644200</td>\n      <td>0.651714</td>\n      <td>0.651613</td>\n      <td>0.673267</td>\n      <td>0.764045</td>\n      <td>0.715789</td>\n    </tr>\n    <tr>\n      <td>6</td>\n      <td>0.631300</td>\n      <td>0.620527</td>\n      <td>0.703226</td>\n      <td>0.741573</td>\n      <td>0.741573</td>\n      <td>0.741573</td>\n    </tr>\n    <tr>\n      <td>7</td>\n      <td>0.555400</td>\n      <td>0.593138</td>\n      <td>0.683871</td>\n      <td>0.812500</td>\n      <td>0.584270</td>\n      <td>0.679739</td>\n    </tr>\n    <tr>\n      <td>8</td>\n      <td>0.484400</td>\n      <td>0.555982</td>\n      <td>0.729032</td>\n      <td>0.805195</td>\n      <td>0.696629</td>\n      <td>0.746988</td>\n    </tr>\n    <tr>\n      <td>9</td>\n      <td>0.478800</td>\n      <td>0.553012</td>\n      <td>0.709677</td>\n      <td>0.854839</td>\n      <td>0.595506</td>\n      <td>0.701987</td>\n    </tr>\n    <tr>\n      <td>10</td>\n      <td>0.416400</td>\n      <td>0.556414</td>\n      <td>0.716129</td>\n      <td>0.868852</td>\n      <td>0.595506</td>\n      <td>0.706667</td>\n    </tr>\n    <tr>\n      <td>11</td>\n      <td>0.369900</td>\n      <td>0.548397</td>\n      <td>0.716129</td>\n      <td>0.846154</td>\n      <td>0.617978</td>\n      <td>0.714286</td>\n    </tr>\n    <tr>\n      <td>12</td>\n      <td>0.298000</td>\n      <td>0.616173</td>\n      <td>0.703226</td>\n      <td>0.852459</td>\n      <td>0.584270</td>\n      <td>0.693333</td>\n    </tr>\n    <tr>\n      <td>13</td>\n      <td>0.182200</td>\n      <td>0.619930</td>\n      <td>0.741935</td>\n      <td>0.845070</td>\n      <td>0.674157</td>\n      <td>0.750000</td>\n    </tr>\n    <tr>\n      <td>14</td>\n      <td>0.221400</td>\n      <td>0.700778</td>\n      <td>0.729032</td>\n      <td>0.840580</td>\n      <td>0.651685</td>\n      <td>0.734177</td>\n    </tr>\n    <tr>\n      <td>15</td>\n      <td>0.125400</td>\n      <td>0.618711</td>\n      <td>0.774194</td>\n      <td>0.813953</td>\n      <td>0.786517</td>\n      <td>0.800000</td>\n    </tr>\n  </tbody>\n</table><p>"
     },
     "metadata": {},
     "output_type": "display_data"
    },
    {
     "data": {
      "text/plain": "<IPython.core.display.HTML object>",
      "text/html": "\n    <div>\n      \n      <progress value='369' max='460' style='width:300px; height:20px; vertical-align: middle;'></progress>\n      [369/460 43:13 < 10:43, 0.14 it/s, Epoch 16/20]\n    </div>\n    <table border=\"1\" class=\"dataframe\">\n  <thead>\n <tr style=\"text-align: left;\">\n      <th>Epoch</th>\n      <th>Training Loss</th>\n      <th>Validation Loss</th>\n      <th>Accuracy</th>\n      <th>Precision</th>\n      <th>Recall</th>\n      <th>F1</th>\n    </tr>\n  </thead>\n  <tbody>\n    <tr>\n      <td>1</td>\n      <td>0.693400</td>\n      <td>0.685926</td>\n      <td>0.574194</td>\n      <td>0.574194</td>\n      <td>1.000000</td>\n      <td>0.729508</td>\n    </tr>\n    <tr>\n      <td>2</td>\n      <td>0.683900</td>\n      <td>0.682431</td>\n      <td>0.574194</td>\n      <td>0.574194</td>\n      <td>1.000000</td>\n      <td>0.729508</td>\n    </tr>\n    <tr>\n      <td>3</td>\n      <td>0.680300</td>\n      <td>0.676871</td>\n      <td>0.574194</td>\n      <td>0.575163</td>\n      <td>0.988764</td>\n      <td>0.727273</td>\n    </tr>\n    <tr>\n      <td>4</td>\n      <td>0.667400</td>\n      <td>0.667204</td>\n      <td>0.600000</td>\n      <td>0.590604</td>\n      <td>0.988764</td>\n      <td>0.739496</td>\n    </tr>\n    <tr>\n      <td>5</td>\n      <td>0.644200</td>\n      <td>0.651714</td>\n      <td>0.651613</td>\n      <td>0.673267</td>\n      <td>0.764045</td>\n      <td>0.715789</td>\n    </tr>\n    <tr>\n      <td>6</td>\n      <td>0.631300</td>\n      <td>0.620527</td>\n      <td>0.703226</td>\n      <td>0.741573</td>\n      <td>0.741573</td>\n      <td>0.741573</td>\n    </tr>\n    <tr>\n      <td>7</td>\n      <td>0.555400</td>\n      <td>0.593138</td>\n      <td>0.683871</td>\n      <td>0.812500</td>\n      <td>0.584270</td>\n      <td>0.679739</td>\n    </tr>\n    <tr>\n      <td>8</td>\n      <td>0.484400</td>\n      <td>0.555982</td>\n      <td>0.729032</td>\n      <td>0.805195</td>\n      <td>0.696629</td>\n      <td>0.746988</td>\n    </tr>\n    <tr>\n      <td>9</td>\n      <td>0.478800</td>\n      <td>0.553012</td>\n      <td>0.709677</td>\n      <td>0.854839</td>\n      <td>0.595506</td>\n      <td>0.701987</td>\n    </tr>\n    <tr>\n      <td>10</td>\n      <td>0.416400</td>\n      <td>0.556414</td>\n      <td>0.716129</td>\n      <td>0.868852</td>\n      <td>0.595506</td>\n      <td>0.706667</td>\n    </tr>\n    <tr>\n      <td>11</td>\n      <td>0.369900</td>\n      <td>0.548397</td>\n      <td>0.716129</td>\n      <td>0.846154</td>\n      <td>0.617978</td>\n      <td>0.714286</td>\n    </tr>\n    <tr>\n      <td>12</td>\n      <td>0.298000</td>\n      <td>0.616173</td>\n      <td>0.703226</td>\n      <td>0.852459</td>\n      <td>0.584270</td>\n      <td>0.693333</td>\n    </tr>\n    <tr>\n      <td>13</td>\n      <td>0.182200</td>\n      <td>0.619930</td>\n      <td>0.741935</td>\n      <td>0.845070</td>\n      <td>0.674157</td>\n      <td>0.750000</td>\n    </tr>\n    <tr>\n      <td>14</td>\n      <td>0.221400</td>\n      <td>0.700778</td>\n      <td>0.729032</td>\n      <td>0.840580</td>\n      <td>0.651685</td>\n      <td>0.734177</td>\n    </tr>\n    <tr>\n      <td>15</td>\n      <td>0.125400</td>\n      <td>0.618711</td>\n      <td>0.774194</td>\n      <td>0.813953</td>\n      <td>0.786517</td>\n      <td>0.800000</td>\n    </tr>\n    <tr>\n      <td>16</td>\n      <td>0.106200</td>\n      <td>0.971978</td>\n      <td>0.709677</td>\n      <td>0.854839</td>\n      <td>0.595506</td>\n      <td>0.701987</td>\n    </tr>\n  </tbody>\n</table><p>"
     },
     "metadata": {},
     "output_type": "display_data"
    },
    {
     "data": {
      "text/plain": "<IPython.core.display.HTML object>",
      "text/html": "\n    <div>\n      \n      <progress value='392' max='460' style='width:300px; height:20px; vertical-align: middle;'></progress>\n      [392/460 47:13 < 08:14, 0.14 it/s, Epoch 17/20]\n    </div>\n    <table border=\"1\" class=\"dataframe\">\n  <thead>\n <tr style=\"text-align: left;\">\n      <th>Epoch</th>\n      <th>Training Loss</th>\n      <th>Validation Loss</th>\n      <th>Accuracy</th>\n      <th>Precision</th>\n      <th>Recall</th>\n      <th>F1</th>\n    </tr>\n  </thead>\n  <tbody>\n    <tr>\n      <td>1</td>\n      <td>0.693400</td>\n      <td>0.685926</td>\n      <td>0.574194</td>\n      <td>0.574194</td>\n      <td>1.000000</td>\n      <td>0.729508</td>\n    </tr>\n    <tr>\n      <td>2</td>\n      <td>0.683900</td>\n      <td>0.682431</td>\n      <td>0.574194</td>\n      <td>0.574194</td>\n      <td>1.000000</td>\n      <td>0.729508</td>\n    </tr>\n    <tr>\n      <td>3</td>\n      <td>0.680300</td>\n      <td>0.676871</td>\n      <td>0.574194</td>\n      <td>0.575163</td>\n      <td>0.988764</td>\n      <td>0.727273</td>\n    </tr>\n    <tr>\n      <td>4</td>\n      <td>0.667400</td>\n      <td>0.667204</td>\n      <td>0.600000</td>\n      <td>0.590604</td>\n      <td>0.988764</td>\n      <td>0.739496</td>\n    </tr>\n    <tr>\n      <td>5</td>\n      <td>0.644200</td>\n      <td>0.651714</td>\n      <td>0.651613</td>\n      <td>0.673267</td>\n      <td>0.764045</td>\n      <td>0.715789</td>\n    </tr>\n    <tr>\n      <td>6</td>\n      <td>0.631300</td>\n      <td>0.620527</td>\n      <td>0.703226</td>\n      <td>0.741573</td>\n      <td>0.741573</td>\n      <td>0.741573</td>\n    </tr>\n    <tr>\n      <td>7</td>\n      <td>0.555400</td>\n      <td>0.593138</td>\n      <td>0.683871</td>\n      <td>0.812500</td>\n      <td>0.584270</td>\n      <td>0.679739</td>\n    </tr>\n    <tr>\n      <td>8</td>\n      <td>0.484400</td>\n      <td>0.555982</td>\n      <td>0.729032</td>\n      <td>0.805195</td>\n      <td>0.696629</td>\n      <td>0.746988</td>\n    </tr>\n    <tr>\n      <td>9</td>\n      <td>0.478800</td>\n      <td>0.553012</td>\n      <td>0.709677</td>\n      <td>0.854839</td>\n      <td>0.595506</td>\n      <td>0.701987</td>\n    </tr>\n    <tr>\n      <td>10</td>\n      <td>0.416400</td>\n      <td>0.556414</td>\n      <td>0.716129</td>\n      <td>0.868852</td>\n      <td>0.595506</td>\n      <td>0.706667</td>\n    </tr>\n    <tr>\n      <td>11</td>\n      <td>0.369900</td>\n      <td>0.548397</td>\n      <td>0.716129</td>\n      <td>0.846154</td>\n      <td>0.617978</td>\n      <td>0.714286</td>\n    </tr>\n    <tr>\n      <td>12</td>\n      <td>0.298000</td>\n      <td>0.616173</td>\n      <td>0.703226</td>\n      <td>0.852459</td>\n      <td>0.584270</td>\n      <td>0.693333</td>\n    </tr>\n    <tr>\n      <td>13</td>\n      <td>0.182200</td>\n      <td>0.619930</td>\n      <td>0.741935</td>\n      <td>0.845070</td>\n      <td>0.674157</td>\n      <td>0.750000</td>\n    </tr>\n    <tr>\n      <td>14</td>\n      <td>0.221400</td>\n      <td>0.700778</td>\n      <td>0.729032</td>\n      <td>0.840580</td>\n      <td>0.651685</td>\n      <td>0.734177</td>\n    </tr>\n    <tr>\n      <td>15</td>\n      <td>0.125400</td>\n      <td>0.618711</td>\n      <td>0.774194</td>\n      <td>0.813953</td>\n      <td>0.786517</td>\n      <td>0.800000</td>\n    </tr>\n    <tr>\n      <td>16</td>\n      <td>0.106200</td>\n      <td>0.971978</td>\n      <td>0.709677</td>\n      <td>0.854839</td>\n      <td>0.595506</td>\n      <td>0.701987</td>\n    </tr>\n    <tr>\n      <td>17</td>\n      <td>0.076000</td>\n      <td>1.069755</td>\n      <td>0.709677</td>\n      <td>0.854839</td>\n      <td>0.595506</td>\n      <td>0.701987</td>\n    </tr>\n  </tbody>\n</table><p>"
     },
     "metadata": {},
     "output_type": "display_data"
    },
    {
     "data": {
      "text/plain": "<IPython.core.display.HTML object>",
      "text/html": "\n    <div>\n      \n      <progress value='415' max='460' style='width:300px; height:20px; vertical-align: middle;'></progress>\n      [415/460 51:29 < 05:36, 0.13 it/s, Epoch 18/20]\n    </div>\n    <table border=\"1\" class=\"dataframe\">\n  <thead>\n <tr style=\"text-align: left;\">\n      <th>Epoch</th>\n      <th>Training Loss</th>\n      <th>Validation Loss</th>\n      <th>Accuracy</th>\n      <th>Precision</th>\n      <th>Recall</th>\n      <th>F1</th>\n    </tr>\n  </thead>\n  <tbody>\n    <tr>\n      <td>1</td>\n      <td>0.693400</td>\n      <td>0.685926</td>\n      <td>0.574194</td>\n      <td>0.574194</td>\n      <td>1.000000</td>\n      <td>0.729508</td>\n    </tr>\n    <tr>\n      <td>2</td>\n      <td>0.683900</td>\n      <td>0.682431</td>\n      <td>0.574194</td>\n      <td>0.574194</td>\n      <td>1.000000</td>\n      <td>0.729508</td>\n    </tr>\n    <tr>\n      <td>3</td>\n      <td>0.680300</td>\n      <td>0.676871</td>\n      <td>0.574194</td>\n      <td>0.575163</td>\n      <td>0.988764</td>\n      <td>0.727273</td>\n    </tr>\n    <tr>\n      <td>4</td>\n      <td>0.667400</td>\n      <td>0.667204</td>\n      <td>0.600000</td>\n      <td>0.590604</td>\n      <td>0.988764</td>\n      <td>0.739496</td>\n    </tr>\n    <tr>\n      <td>5</td>\n      <td>0.644200</td>\n      <td>0.651714</td>\n      <td>0.651613</td>\n      <td>0.673267</td>\n      <td>0.764045</td>\n      <td>0.715789</td>\n    </tr>\n    <tr>\n      <td>6</td>\n      <td>0.631300</td>\n      <td>0.620527</td>\n      <td>0.703226</td>\n      <td>0.741573</td>\n      <td>0.741573</td>\n      <td>0.741573</td>\n    </tr>\n    <tr>\n      <td>7</td>\n      <td>0.555400</td>\n      <td>0.593138</td>\n      <td>0.683871</td>\n      <td>0.812500</td>\n      <td>0.584270</td>\n      <td>0.679739</td>\n    </tr>\n    <tr>\n      <td>8</td>\n      <td>0.484400</td>\n      <td>0.555982</td>\n      <td>0.729032</td>\n      <td>0.805195</td>\n      <td>0.696629</td>\n      <td>0.746988</td>\n    </tr>\n    <tr>\n      <td>9</td>\n      <td>0.478800</td>\n      <td>0.553012</td>\n      <td>0.709677</td>\n      <td>0.854839</td>\n      <td>0.595506</td>\n      <td>0.701987</td>\n    </tr>\n    <tr>\n      <td>10</td>\n      <td>0.416400</td>\n      <td>0.556414</td>\n      <td>0.716129</td>\n      <td>0.868852</td>\n      <td>0.595506</td>\n      <td>0.706667</td>\n    </tr>\n    <tr>\n      <td>11</td>\n      <td>0.369900</td>\n      <td>0.548397</td>\n      <td>0.716129</td>\n      <td>0.846154</td>\n      <td>0.617978</td>\n      <td>0.714286</td>\n    </tr>\n    <tr>\n      <td>12</td>\n      <td>0.298000</td>\n      <td>0.616173</td>\n      <td>0.703226</td>\n      <td>0.852459</td>\n      <td>0.584270</td>\n      <td>0.693333</td>\n    </tr>\n    <tr>\n      <td>13</td>\n      <td>0.182200</td>\n      <td>0.619930</td>\n      <td>0.741935</td>\n      <td>0.845070</td>\n      <td>0.674157</td>\n      <td>0.750000</td>\n    </tr>\n    <tr>\n      <td>14</td>\n      <td>0.221400</td>\n      <td>0.700778</td>\n      <td>0.729032</td>\n      <td>0.840580</td>\n      <td>0.651685</td>\n      <td>0.734177</td>\n    </tr>\n    <tr>\n      <td>15</td>\n      <td>0.125400</td>\n      <td>0.618711</td>\n      <td>0.774194</td>\n      <td>0.813953</td>\n      <td>0.786517</td>\n      <td>0.800000</td>\n    </tr>\n    <tr>\n      <td>16</td>\n      <td>0.106200</td>\n      <td>0.971978</td>\n      <td>0.709677</td>\n      <td>0.854839</td>\n      <td>0.595506</td>\n      <td>0.701987</td>\n    </tr>\n    <tr>\n      <td>17</td>\n      <td>0.076000</td>\n      <td>1.069755</td>\n      <td>0.709677</td>\n      <td>0.854839</td>\n      <td>0.595506</td>\n      <td>0.701987</td>\n    </tr>\n    <tr>\n      <td>18</td>\n      <td>0.047700</td>\n      <td>0.846192</td>\n      <td>0.780645</td>\n      <td>0.808989</td>\n      <td>0.808989</td>\n      <td>0.808989</td>\n    </tr>\n  </tbody>\n</table><p>"
     },
     "metadata": {},
     "output_type": "display_data"
    },
    {
     "data": {
      "text/plain": "<IPython.core.display.HTML object>",
      "text/html": "\n    <div>\n      \n      <progress value='438' max='460' style='width:300px; height:20px; vertical-align: middle;'></progress>\n      [438/460 55:58 < 02:49, 0.13 it/s, Epoch 19/20]\n    </div>\n    <table border=\"1\" class=\"dataframe\">\n  <thead>\n <tr style=\"text-align: left;\">\n      <th>Epoch</th>\n      <th>Training Loss</th>\n      <th>Validation Loss</th>\n      <th>Accuracy</th>\n      <th>Precision</th>\n      <th>Recall</th>\n      <th>F1</th>\n    </tr>\n  </thead>\n  <tbody>\n    <tr>\n      <td>1</td>\n      <td>0.693400</td>\n      <td>0.685926</td>\n      <td>0.574194</td>\n      <td>0.574194</td>\n      <td>1.000000</td>\n      <td>0.729508</td>\n    </tr>\n    <tr>\n      <td>2</td>\n      <td>0.683900</td>\n      <td>0.682431</td>\n      <td>0.574194</td>\n      <td>0.574194</td>\n      <td>1.000000</td>\n      <td>0.729508</td>\n    </tr>\n    <tr>\n      <td>3</td>\n      <td>0.680300</td>\n      <td>0.676871</td>\n      <td>0.574194</td>\n      <td>0.575163</td>\n      <td>0.988764</td>\n      <td>0.727273</td>\n    </tr>\n    <tr>\n      <td>4</td>\n      <td>0.667400</td>\n      <td>0.667204</td>\n      <td>0.600000</td>\n      <td>0.590604</td>\n      <td>0.988764</td>\n      <td>0.739496</td>\n    </tr>\n    <tr>\n      <td>5</td>\n      <td>0.644200</td>\n      <td>0.651714</td>\n      <td>0.651613</td>\n      <td>0.673267</td>\n      <td>0.764045</td>\n      <td>0.715789</td>\n    </tr>\n    <tr>\n      <td>6</td>\n      <td>0.631300</td>\n      <td>0.620527</td>\n      <td>0.703226</td>\n      <td>0.741573</td>\n      <td>0.741573</td>\n      <td>0.741573</td>\n    </tr>\n    <tr>\n      <td>7</td>\n      <td>0.555400</td>\n      <td>0.593138</td>\n      <td>0.683871</td>\n      <td>0.812500</td>\n      <td>0.584270</td>\n      <td>0.679739</td>\n    </tr>\n    <tr>\n      <td>8</td>\n      <td>0.484400</td>\n      <td>0.555982</td>\n      <td>0.729032</td>\n      <td>0.805195</td>\n      <td>0.696629</td>\n      <td>0.746988</td>\n    </tr>\n    <tr>\n      <td>9</td>\n      <td>0.478800</td>\n      <td>0.553012</td>\n      <td>0.709677</td>\n      <td>0.854839</td>\n      <td>0.595506</td>\n      <td>0.701987</td>\n    </tr>\n    <tr>\n      <td>10</td>\n      <td>0.416400</td>\n      <td>0.556414</td>\n      <td>0.716129</td>\n      <td>0.868852</td>\n      <td>0.595506</td>\n      <td>0.706667</td>\n    </tr>\n    <tr>\n      <td>11</td>\n      <td>0.369900</td>\n      <td>0.548397</td>\n      <td>0.716129</td>\n      <td>0.846154</td>\n      <td>0.617978</td>\n      <td>0.714286</td>\n    </tr>\n    <tr>\n      <td>12</td>\n      <td>0.298000</td>\n      <td>0.616173</td>\n      <td>0.703226</td>\n      <td>0.852459</td>\n      <td>0.584270</td>\n      <td>0.693333</td>\n    </tr>\n    <tr>\n      <td>13</td>\n      <td>0.182200</td>\n      <td>0.619930</td>\n      <td>0.741935</td>\n      <td>0.845070</td>\n      <td>0.674157</td>\n      <td>0.750000</td>\n    </tr>\n    <tr>\n      <td>14</td>\n      <td>0.221400</td>\n      <td>0.700778</td>\n      <td>0.729032</td>\n      <td>0.840580</td>\n      <td>0.651685</td>\n      <td>0.734177</td>\n    </tr>\n    <tr>\n      <td>15</td>\n      <td>0.125400</td>\n      <td>0.618711</td>\n      <td>0.774194</td>\n      <td>0.813953</td>\n      <td>0.786517</td>\n      <td>0.800000</td>\n    </tr>\n    <tr>\n      <td>16</td>\n      <td>0.106200</td>\n      <td>0.971978</td>\n      <td>0.709677</td>\n      <td>0.854839</td>\n      <td>0.595506</td>\n      <td>0.701987</td>\n    </tr>\n    <tr>\n      <td>17</td>\n      <td>0.076000</td>\n      <td>1.069755</td>\n      <td>0.709677</td>\n      <td>0.854839</td>\n      <td>0.595506</td>\n      <td>0.701987</td>\n    </tr>\n    <tr>\n      <td>18</td>\n      <td>0.047700</td>\n      <td>0.846192</td>\n      <td>0.780645</td>\n      <td>0.808989</td>\n      <td>0.808989</td>\n      <td>0.808989</td>\n    </tr>\n    <tr>\n      <td>19</td>\n      <td>0.033200</td>\n      <td>1.166012</td>\n      <td>0.735484</td>\n      <td>0.863636</td>\n      <td>0.640449</td>\n      <td>0.735484</td>\n    </tr>\n  </tbody>\n</table><p>"
     },
     "metadata": {},
     "output_type": "display_data"
    },
    {
     "data": {
      "text/plain": "<IPython.core.display.HTML object>",
      "text/html": "\n    <div>\n      \n      <progress value='460' max='460' style='width:300px; height:20px; vertical-align: middle;'></progress>\n      [460/460 1:00:13, Epoch 20/20]\n    </div>\n    <table border=\"1\" class=\"dataframe\">\n  <thead>\n <tr style=\"text-align: left;\">\n      <th>Epoch</th>\n      <th>Training Loss</th>\n      <th>Validation Loss</th>\n      <th>Accuracy</th>\n      <th>Precision</th>\n      <th>Recall</th>\n      <th>F1</th>\n    </tr>\n  </thead>\n  <tbody>\n    <tr>\n      <td>1</td>\n      <td>0.693400</td>\n      <td>0.685926</td>\n      <td>0.574194</td>\n      <td>0.574194</td>\n      <td>1.000000</td>\n      <td>0.729508</td>\n    </tr>\n    <tr>\n      <td>2</td>\n      <td>0.683900</td>\n      <td>0.682431</td>\n      <td>0.574194</td>\n      <td>0.574194</td>\n      <td>1.000000</td>\n      <td>0.729508</td>\n    </tr>\n    <tr>\n      <td>3</td>\n      <td>0.680300</td>\n      <td>0.676871</td>\n      <td>0.574194</td>\n      <td>0.575163</td>\n      <td>0.988764</td>\n      <td>0.727273</td>\n    </tr>\n    <tr>\n      <td>4</td>\n      <td>0.667400</td>\n      <td>0.667204</td>\n      <td>0.600000</td>\n      <td>0.590604</td>\n      <td>0.988764</td>\n      <td>0.739496</td>\n    </tr>\n    <tr>\n      <td>5</td>\n      <td>0.644200</td>\n      <td>0.651714</td>\n      <td>0.651613</td>\n      <td>0.673267</td>\n      <td>0.764045</td>\n      <td>0.715789</td>\n    </tr>\n    <tr>\n      <td>6</td>\n      <td>0.631300</td>\n      <td>0.620527</td>\n      <td>0.703226</td>\n      <td>0.741573</td>\n      <td>0.741573</td>\n      <td>0.741573</td>\n    </tr>\n    <tr>\n      <td>7</td>\n      <td>0.555400</td>\n      <td>0.593138</td>\n      <td>0.683871</td>\n      <td>0.812500</td>\n      <td>0.584270</td>\n      <td>0.679739</td>\n    </tr>\n    <tr>\n      <td>8</td>\n      <td>0.484400</td>\n      <td>0.555982</td>\n      <td>0.729032</td>\n      <td>0.805195</td>\n      <td>0.696629</td>\n      <td>0.746988</td>\n    </tr>\n    <tr>\n      <td>9</td>\n      <td>0.478800</td>\n      <td>0.553012</td>\n      <td>0.709677</td>\n      <td>0.854839</td>\n      <td>0.595506</td>\n      <td>0.701987</td>\n    </tr>\n    <tr>\n      <td>10</td>\n      <td>0.416400</td>\n      <td>0.556414</td>\n      <td>0.716129</td>\n      <td>0.868852</td>\n      <td>0.595506</td>\n      <td>0.706667</td>\n    </tr>\n    <tr>\n      <td>11</td>\n      <td>0.369900</td>\n      <td>0.548397</td>\n      <td>0.716129</td>\n      <td>0.846154</td>\n      <td>0.617978</td>\n      <td>0.714286</td>\n    </tr>\n    <tr>\n      <td>12</td>\n      <td>0.298000</td>\n      <td>0.616173</td>\n      <td>0.703226</td>\n      <td>0.852459</td>\n      <td>0.584270</td>\n      <td>0.693333</td>\n    </tr>\n    <tr>\n      <td>13</td>\n      <td>0.182200</td>\n      <td>0.619930</td>\n      <td>0.741935</td>\n      <td>0.845070</td>\n      <td>0.674157</td>\n      <td>0.750000</td>\n    </tr>\n    <tr>\n      <td>14</td>\n      <td>0.221400</td>\n      <td>0.700778</td>\n      <td>0.729032</td>\n      <td>0.840580</td>\n      <td>0.651685</td>\n      <td>0.734177</td>\n    </tr>\n    <tr>\n      <td>15</td>\n      <td>0.125400</td>\n      <td>0.618711</td>\n      <td>0.774194</td>\n      <td>0.813953</td>\n      <td>0.786517</td>\n      <td>0.800000</td>\n    </tr>\n    <tr>\n      <td>16</td>\n      <td>0.106200</td>\n      <td>0.971978</td>\n      <td>0.709677</td>\n      <td>0.854839</td>\n      <td>0.595506</td>\n      <td>0.701987</td>\n    </tr>\n    <tr>\n      <td>17</td>\n      <td>0.076000</td>\n      <td>1.069755</td>\n      <td>0.709677</td>\n      <td>0.854839</td>\n      <td>0.595506</td>\n      <td>0.701987</td>\n    </tr>\n    <tr>\n      <td>18</td>\n      <td>0.047700</td>\n      <td>0.846192</td>\n      <td>0.780645</td>\n      <td>0.808989</td>\n      <td>0.808989</td>\n      <td>0.808989</td>\n    </tr>\n    <tr>\n      <td>19</td>\n      <td>0.033200</td>\n      <td>1.166012</td>\n      <td>0.735484</td>\n      <td>0.863636</td>\n      <td>0.640449</td>\n      <td>0.735484</td>\n    </tr>\n    <tr>\n      <td>20</td>\n      <td>0.040100</td>\n      <td>1.107023</td>\n      <td>0.761290</td>\n      <td>0.825000</td>\n      <td>0.741573</td>\n      <td>0.781065</td>\n    </tr>\n  </tbody>\n</table><p>"
     },
     "metadata": {},
     "output_type": "display_data"
    },
    {
     "name": "stderr",
     "output_type": "stream",
     "text": [
      "/var/folders/l9/qqb85lxn7d38y07pzrx88zvw0000gn/T/ipykernel_55077/546552507.py:34: UserWarning: To copy construct from a tensor, it is recommended to use sourceTensor.clone().detach() or sourceTensor.clone().detach().requires_grad_(True), rather than torch.tensor(sourceTensor).\n",
      "  item = {key: torch.tensor(val[idx]) for key, val in self.encodings.items()}\n"
     ]
    },
    {
     "data": {
      "text/plain": "<IPython.core.display.HTML object>",
      "text/html": "\n    <div>\n      \n      <progress value='10' max='10' style='width:300px; height:20px; vertical-align: middle;'></progress>\n      [10/10 00:03]\n    </div>\n    "
     },
     "metadata": {},
     "output_type": "display_data"
    },
    {
     "name": "stdout",
     "output_type": "stream",
     "text": [
      "Evaluation result: {'eval_loss': 1.1070233583450317, 'eval_accuracy': 0.7612903225806451, 'eval_precision': 0.825, 'eval_recall': 0.7415730337078652, 'eval_f1': 0.7810650887573964, 'eval_runtime': 3.7227, 'eval_samples_per_second': 41.636, 'eval_steps_per_second': 2.686, 'epoch': 20.0}\n"
     ]
    }
   ],
   "source": [
    "from transformers import BertTokenizer, BertForSequenceClassification, Trainer, TrainingArguments\n",
    "from sklearn.metrics import accuracy_score, precision_recall_fscore_support\n",
    "\n",
    "# Load the dataset\n",
    "\n",
    "# Define tokenizer and model\n",
    "tokenizer = BertTokenizer.from_pretrained('bert-base-uncased')\n",
    "model = BertForSequenceClassification.from_pretrained('bert-base-uncased')\n",
    "\n",
    "# Tokenize the text data\n",
    "def tokenize_data(data, tokenizer, max_length=512):\n",
    "    return tokenizer(\n",
    "        data['text'].tolist(),\n",
    "        padding=True,\n",
    "        truncation=True,\n",
    "        max_length=max_length,\n",
    "        return_tensors='pt'\n",
    "    )\n",
    "\n",
    "train_encodings = tokenize_data(train_data, tokenizer)\n",
    "test_encodings = tokenize_data(test_data, tokenizer)\n",
    "\n",
    "# Convert labels to tensor\n",
    "train_labels = torch.tensor(train_data['label'].tolist())\n",
    "test_labels = torch.tensor(test_data['label'].tolist())\n",
    "\n",
    "# Create a dataset class\n",
    "class PictureDescriptionDataset(torch.utils.data.Dataset):\n",
    "    def __init__(self, encodings, labels):\n",
    "        self.encodings = encodings\n",
    "        self.labels = labels\n",
    "\n",
    "    def __getitem__(self, idx):\n",
    "        item = {key: torch.tensor(val[idx]) for key, val in self.encodings.items()}\n",
    "        item['labels'] = self.labels[idx]\n",
    "        return item\n",
    "\n",
    "    def __len__(self):\n",
    "        return len(self.labels)\n",
    "\n",
    "train_dataset = PictureDescriptionDataset(train_encodings, train_labels)\n",
    "test_dataset = PictureDescriptionDataset(test_encodings, test_labels)\n",
    "\n",
    "# Define the training arguments\n",
    "training_args = TrainingArguments(\n",
    "    output_dir='./results',\n",
    "    num_train_epochs=20,\n",
    "    learning_rate=0.00001,\n",
    "    per_device_train_batch_size=16,\n",
    "    per_device_eval_batch_size=16,\n",
    "    warmup_steps=500,\n",
    "    weight_decay=0.01,\n",
    "    logging_dir='./logs',\n",
    "    logging_steps=10,\n",
    "    evaluation_strategy=\"epoch\",\n",
    ")\n",
    "\n",
    "# Define the Trainer\n",
    "trainer = Trainer(\n",
    "    model=model,\n",
    "    args=training_args,\n",
    "    train_dataset=train_dataset,\n",
    "    eval_dataset=test_dataset,\n",
    "    compute_metrics=lambda p: {\n",
    "        'accuracy': accuracy_score(p.label_ids, p.predictions.argmax(-1)),\n",
    "        'precision': precision_recall_fscore_support(p.label_ids, p.predictions.argmax(-1), average='binary')[0],\n",
    "        'recall': precision_recall_fscore_support(p.label_ids, p.predictions.argmax(-1), average='binary')[1],\n",
    "        'f1': precision_recall_fscore_support(p.label_ids, p.predictions.argmax(-1), average='binary')[2],\n",
    "    },\n",
    ")\n",
    "\n",
    "# Train the model\n",
    "trainer.train()\n",
    "\n",
    "# Evaluate the model\n",
    "eval_result = trainer.evaluate()\n",
    "print(f\"Evaluation result: {eval_result}\")"
   ],
   "metadata": {
    "collapsed": false,
    "ExecuteTime": {
     "end_time": "2024-05-30T20:32:32.806036Z",
     "start_time": "2024-05-30T19:31:42.862173Z"
    }
   },
   "execution_count": 36
  },
  {
   "cell_type": "code",
   "outputs": [],
   "source": [],
   "metadata": {
    "collapsed": false
   }
  }
 ],
 "metadata": {
  "kernelspec": {
   "display_name": "Python 3",
   "language": "python",
   "name": "python3"
  },
  "language_info": {
   "codemirror_mode": {
    "name": "ipython",
    "version": 3
   },
   "file_extension": ".py",
   "mimetype": "text/x-python",
   "name": "python",
   "nbconvert_exporter": "python",
   "pygments_lexer": "ipython3",
   "version": "3.9.7"
  }
 },
 "nbformat": 4,
 "nbformat_minor": 2
}
