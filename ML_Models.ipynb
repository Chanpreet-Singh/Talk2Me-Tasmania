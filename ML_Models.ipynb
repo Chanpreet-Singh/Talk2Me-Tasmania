{
 "cells": [
  {
   "cell_type": "code",
   "execution_count": 1,
   "id": "97525be7",
   "metadata": {},
   "outputs": [],
   "source": [
    "import numpy as np\n",
    "import pandas as pd\n",
    "import seaborn as sns\n",
    "import statsmodels.api as sm\n",
    "import matplotlib.pyplot as plt\n",
    "\n",
    "from copy import deepcopy\n",
    "from sklearn.preprocessing import LabelEncoder\n",
    "\n",
    "from sklearn.tree import DecisionTreeClassifier\n",
    "from sklearn.linear_model import LogisticRegression, LinearRegression\n",
    "from sklearn.model_selection import train_test_split, GridSearchCV\n",
    "from sklearn.ensemble import RandomForestClassifier, RandomForestRegressor \n",
    "from sklearn.metrics import classification_report, accuracy_score, confusion_matrix, r2_score, mean_squared_error"
   ]
  },
  {
   "cell_type": "code",
   "execution_count": 2,
   "id": "8a6c0ac2",
   "metadata": {},
   "outputs": [],
   "source": [
    "input_file = \"data_and_corr_pvals.xlsx\"\n",
    "input_data_sheet = \"data\"\n",
    "input_corr_sheet = \"corr_and_pvals\"\n",
    "\n",
    "output_file = \"ML models report.xlsx\""
   ]
  },
  {
   "cell_type": "code",
   "execution_count": 3,
   "id": "c7327ef4",
   "metadata": {},
   "outputs": [],
   "source": [
    "data = pd.read_excel(input_file, sheet_name=input_data_sheet)\n",
    "corr_data = pd.read_excel(input_file, sheet_name=input_corr_sheet)\n",
    "\n",
    "if \"Unnamed: 0\" in data.columns: # Removing the index column\n",
    "    data.drop(\"Unnamed: 0\", axis=1, inplace=True)\n",
    "\n",
    "if \"Unnamed: 0\" in corr_data.columns: # Removing the index column\n",
    "    corr_data = corr_data.rename(columns={\"Unnamed: 0\": \"column_name\"})"
   ]
  },
  {
   "cell_type": "code",
   "execution_count": 4,
   "id": "eaa4fe61",
   "metadata": {},
   "outputs": [],
   "source": [
    "le = LabelEncoder()\n",
    "categ=['marital_status', 'retired', 'volunteer',\n",
    "       'other_dementia_risk_programs', \n",
    "       'articles_about_dementia_risk', 'active_member_club_group',\n",
    "        'meeting_club_group_how_often_month',\n",
    "       'host_visitors_how_often', 'outing_family_friend_how_often', 'event_movie_cinema_normal',\n",
    "       'event_play_drama_normal', 'event_pub_rsl_normal',\n",
    "       'event_music_recital_normal', 'event_special_performance_normal',\n",
    "       'event_dancing_normal', 'event_visiting_friends_normal',\n",
    "       'event_sporting_event_normal', 'event_restaurant_normal',\n",
    "       'language_english_only', 'dementia_diagnosis',\n",
    "       'memory_impairment_diagnosis', 'memory_change',\n",
    "       'dementia_family_history', 'heart_disease_type',\n",
    "       'cancer_type', 'pysch_diagnosis', 'visual_legally_blind',\n",
    "       'visual_corrective_glasses', 'head_injury', 'head_injury_severity',\n",
    "       'epilepsy_diagnosis', 'kidney_disease_diagnosis',\n",
    "       'liver_disease_diagnosis', 'stroke_tia_attack', 'cns_diagnosis',\n",
    "       'cns_diagnosis_disorder', 'b12_deficiency_diagnosis',\n",
    "       'delerium_diagnosis', 'hearing_impairment', 'medications_new_since_last_surveys',\n",
    "        'medications', 'visual_colour_blind',\n",
    "       'gender']\n",
    "dfx = data\n",
    "dfx[categ] = data[categ].apply(le.fit_transform)"
   ]
  },
  {
   "cell_type": "code",
   "execution_count": 5,
   "id": "3f5fa794",
   "metadata": {},
   "outputs": [],
   "source": [
    "total_cols = len(corr_data[\"column_name\"])\n",
    "cols_to_take = gap = 5"
   ]
  },
  {
   "cell_type": "code",
   "execution_count": 6,
   "id": "75d8f05b",
   "metadata": {},
   "outputs": [],
   "source": [
    "def get_classification_report_row(classification_report, best_params=\"\"):\n",
    "    data_dict = {\n",
    "                    \"Precision\": round(classification_report[\"weighted avg\"][\"precision\"], 5),\n",
    "                    \"Recall\": round(classification_report[\"weighted avg\"][\"recall\"], 5),\n",
    "                    \"f1-score\": round(classification_report[\"weighted avg\"][\"f1-score\"], 5),\n",
    "#                     \"support\": round(classification_report[\"weighted avg\"][\"support\"], 3),\n",
    "                    \"Accuracy\": round(classification_report[\"accuracy\"], 5)\n",
    "                }\n",
    "    if best_params:\n",
    "        data_dict[\"best_params\"] = best_params\n",
    "    return data_dict"
   ]
  },
  {
   "cell_type": "code",
   "execution_count": 7,
   "id": "27c848fb",
   "metadata": {},
   "outputs": [],
   "source": [
    "def logistic_regression_with_ht(X_train, X_test, y_train, y_test):\n",
    "    tuned_parameters={\"C\":np.logspace(-3,3,7), \"penalty\":[\"l1\",\"l2\"]}\n",
    "    model=GridSearchCV(LogisticRegression(), tuned_parameters, cv=10)\n",
    "    model.fit(X_train,y_train)\n",
    "    print(\"tuned hyperparameters for logistic regression:\",model.best_params_)\n",
    "    print(\"accuracy :\",model.best_score_)\n",
    "    lr_model=LogisticRegression(C=model.best_params_[\"C\"],penalty=model.best_params_[\"penalty\"])\n",
    "    lr_model.fit(X_train,y_train)\n",
    "    predictions = lr_model.predict(X_test)\n",
    "    best_params = \"\"\"C={0}\\npenalty={1}\"\"\".format(model.best_params_[\"C\"],model.best_params_[\"penalty\"])\n",
    "    return get_classification_report_row(classification_report(y_test, predictions, output_dict=True), best_params)"
   ]
  },
  {
   "cell_type": "code",
   "execution_count": 8,
   "id": "5cfe80c0",
   "metadata": {},
   "outputs": [
    {
     "data": {
      "text/plain": [
       "50"
      ]
     },
     "execution_count": 8,
     "metadata": {},
     "output_type": "execute_result"
    }
   ],
   "source": [
    "total_cols"
   ]
  },
  {
   "cell_type": "code",
   "execution_count": 9,
   "id": "d17fd89e",
   "metadata": {},
   "outputs": [
    {
     "name": "stdout",
     "output_type": "stream",
     "text": [
      "Taking 5 cols -> memory_change_discussed, pysch_diagnosis, stroke_tia_attack, medications_new_since_last_surveys, head_injury\n",
      "\n",
      "Taking 10 cols -> memory_change_discussed, pysch_diagnosis, stroke_tia_attack, medications_new_since_last_surveys, head_injury, head_injury_severity, marital_status, hearing_impairment, medications, event_movie_cinema_normal\n",
      "\n"
     ]
    },
    {
     "name": "stderr",
     "output_type": "stream",
     "text": [
      "/usr/local/lib/python3.8/dist-packages/sklearn/linear_model/_logistic.py:814: ConvergenceWarning: lbfgs failed to converge (status=1):\n",
      "STOP: TOTAL NO. of ITERATIONS REACHED LIMIT.\n",
      "\n",
      "Increase the number of iterations (max_iter) or scale the data as shown in:\n",
      "    https://scikit-learn.org/stable/modules/preprocessing.html\n",
      "Please also refer to the documentation for alternative solver options:\n",
      "    https://scikit-learn.org/stable/modules/linear_model.html#logistic-regression\n",
      "  n_iter_i = _check_optimize_result(\n"
     ]
    },
    {
     "name": "stdout",
     "output_type": "stream",
     "text": [
      "Taking 15 cols -> memory_change_discussed, pysch_diagnosis, stroke_tia_attack, medications_new_since_last_surveys, head_injury, head_injury_severity, marital_status, hearing_impairment, medications, event_movie_cinema_normal, visual_legally_blind, hearing_impairment_correction, kidney_disease_diagnosis, dementia_family_history, host_visitors_how_often\n",
      "\n"
     ]
    },
    {
     "name": "stderr",
     "output_type": "stream",
     "text": [
      "/usr/local/lib/python3.8/dist-packages/sklearn/linear_model/_logistic.py:814: ConvergenceWarning: lbfgs failed to converge (status=1):\n",
      "STOP: TOTAL NO. of ITERATIONS REACHED LIMIT.\n",
      "\n",
      "Increase the number of iterations (max_iter) or scale the data as shown in:\n",
      "    https://scikit-learn.org/stable/modules/preprocessing.html\n",
      "Please also refer to the documentation for alternative solver options:\n",
      "    https://scikit-learn.org/stable/modules/linear_model.html#logistic-regression\n",
      "  n_iter_i = _check_optimize_result(\n"
     ]
    },
    {
     "name": "stdout",
     "output_type": "stream",
     "text": [
      "Taking 20 cols -> memory_change_discussed, pysch_diagnosis, stroke_tia_attack, medications_new_since_last_surveys, head_injury, head_injury_severity, marital_status, hearing_impairment, medications, event_movie_cinema_normal, visual_legally_blind, hearing_impairment_correction, kidney_disease_diagnosis, dementia_family_history, host_visitors_how_often, heart_disease_diagnosis, event_restaurant_normal, dementia_diagnosis, visual_corrective_glasses, event_visiting_friends_normal\n",
      "\n"
     ]
    },
    {
     "name": "stderr",
     "output_type": "stream",
     "text": [
      "/usr/local/lib/python3.8/dist-packages/sklearn/linear_model/_logistic.py:814: ConvergenceWarning: lbfgs failed to converge (status=1):\n",
      "STOP: TOTAL NO. of ITERATIONS REACHED LIMIT.\n",
      "\n",
      "Increase the number of iterations (max_iter) or scale the data as shown in:\n",
      "    https://scikit-learn.org/stable/modules/preprocessing.html\n",
      "Please also refer to the documentation for alternative solver options:\n",
      "    https://scikit-learn.org/stable/modules/linear_model.html#logistic-regression\n",
      "  n_iter_i = _check_optimize_result(\n"
     ]
    },
    {
     "name": "stdout",
     "output_type": "stream",
     "text": [
      "Taking 25 cols -> memory_change_discussed, pysch_diagnosis, stroke_tia_attack, medications_new_since_last_surveys, head_injury, head_injury_severity, marital_status, hearing_impairment, medications, event_movie_cinema_normal, visual_legally_blind, hearing_impairment_correction, kidney_disease_diagnosis, dementia_family_history, host_visitors_how_often, heart_disease_diagnosis, event_restaurant_normal, dementia_diagnosis, visual_corrective_glasses, event_visiting_friends_normal, gender, heart_disease_type, employed, cns_diagnosis, event_pub_rsl_normal\n",
      "\n"
     ]
    },
    {
     "name": "stderr",
     "output_type": "stream",
     "text": [
      "/usr/local/lib/python3.8/dist-packages/sklearn/linear_model/_logistic.py:814: ConvergenceWarning: lbfgs failed to converge (status=1):\n",
      "STOP: TOTAL NO. of ITERATIONS REACHED LIMIT.\n",
      "\n",
      "Increase the number of iterations (max_iter) or scale the data as shown in:\n",
      "    https://scikit-learn.org/stable/modules/preprocessing.html\n",
      "Please also refer to the documentation for alternative solver options:\n",
      "    https://scikit-learn.org/stable/modules/linear_model.html#logistic-regression\n",
      "  n_iter_i = _check_optimize_result(\n"
     ]
    },
    {
     "name": "stdout",
     "output_type": "stream",
     "text": [
      "Taking 30 cols -> memory_change_discussed, pysch_diagnosis, stroke_tia_attack, medications_new_since_last_surveys, head_injury, head_injury_severity, marital_status, hearing_impairment, medications, event_movie_cinema_normal, visual_legally_blind, hearing_impairment_correction, kidney_disease_diagnosis, dementia_family_history, host_visitors_how_often, heart_disease_diagnosis, event_restaurant_normal, dementia_diagnosis, visual_corrective_glasses, event_visiting_friends_normal, gender, heart_disease_type, employed, cns_diagnosis, event_pub_rsl_normal, articles_about_dementia_risk, epilepsy_diagnosis, language_english_only, event_play_drama_normal, memory_impairment_diagnosis\n",
      "\n"
     ]
    },
    {
     "name": "stderr",
     "output_type": "stream",
     "text": [
      "/usr/local/lib/python3.8/dist-packages/sklearn/linear_model/_logistic.py:814: ConvergenceWarning: lbfgs failed to converge (status=1):\n",
      "STOP: TOTAL NO. of ITERATIONS REACHED LIMIT.\n",
      "\n",
      "Increase the number of iterations (max_iter) or scale the data as shown in:\n",
      "    https://scikit-learn.org/stable/modules/preprocessing.html\n",
      "Please also refer to the documentation for alternative solver options:\n",
      "    https://scikit-learn.org/stable/modules/linear_model.html#logistic-regression\n",
      "  n_iter_i = _check_optimize_result(\n"
     ]
    },
    {
     "name": "stdout",
     "output_type": "stream",
     "text": [
      "Taking 35 cols -> memory_change_discussed, pysch_diagnosis, stroke_tia_attack, medications_new_since_last_surveys, head_injury, head_injury_severity, marital_status, hearing_impairment, medications, event_movie_cinema_normal, visual_legally_blind, hearing_impairment_correction, kidney_disease_diagnosis, dementia_family_history, host_visitors_how_often, heart_disease_diagnosis, event_restaurant_normal, dementia_diagnosis, visual_corrective_glasses, event_visiting_friends_normal, gender, heart_disease_type, employed, cns_diagnosis, event_pub_rsl_normal, articles_about_dementia_risk, epilepsy_diagnosis, language_english_only, event_play_drama_normal, memory_impairment_diagnosis, event_sporting_event_normal, other_dementia_risk_programs, meeting_club_group_how_often_month, cancer_diagnosis, b12_deficiency_diagnosis\n",
      "\n"
     ]
    },
    {
     "name": "stderr",
     "output_type": "stream",
     "text": [
      "/usr/local/lib/python3.8/dist-packages/sklearn/linear_model/_logistic.py:814: ConvergenceWarning: lbfgs failed to converge (status=1):\n",
      "STOP: TOTAL NO. of ITERATIONS REACHED LIMIT.\n",
      "\n",
      "Increase the number of iterations (max_iter) or scale the data as shown in:\n",
      "    https://scikit-learn.org/stable/modules/preprocessing.html\n",
      "Please also refer to the documentation for alternative solver options:\n",
      "    https://scikit-learn.org/stable/modules/linear_model.html#logistic-regression\n",
      "  n_iter_i = _check_optimize_result(\n"
     ]
    },
    {
     "name": "stdout",
     "output_type": "stream",
     "text": [
      "Taking 40 cols -> memory_change_discussed, pysch_diagnosis, stroke_tia_attack, medications_new_since_last_surveys, head_injury, head_injury_severity, marital_status, hearing_impairment, medications, event_movie_cinema_normal, visual_legally_blind, hearing_impairment_correction, kidney_disease_diagnosis, dementia_family_history, host_visitors_how_often, heart_disease_diagnosis, event_restaurant_normal, dementia_diagnosis, visual_corrective_glasses, event_visiting_friends_normal, gender, heart_disease_type, employed, cns_diagnosis, event_pub_rsl_normal, articles_about_dementia_risk, epilepsy_diagnosis, language_english_only, event_play_drama_normal, memory_impairment_diagnosis, event_sporting_event_normal, other_dementia_risk_programs, meeting_club_group_how_often_month, cancer_diagnosis, b12_deficiency_diagnosis, active_member_club_group_num, event_special_performance_normal, cns_diagnosis_disorder, event_dancing_normal, event_music_recital_normal\n",
      "\n"
     ]
    },
    {
     "name": "stderr",
     "output_type": "stream",
     "text": [
      "/usr/local/lib/python3.8/dist-packages/sklearn/linear_model/_logistic.py:814: ConvergenceWarning: lbfgs failed to converge (status=1):\n",
      "STOP: TOTAL NO. of ITERATIONS REACHED LIMIT.\n",
      "\n",
      "Increase the number of iterations (max_iter) or scale the data as shown in:\n",
      "    https://scikit-learn.org/stable/modules/preprocessing.html\n",
      "Please also refer to the documentation for alternative solver options:\n",
      "    https://scikit-learn.org/stable/modules/linear_model.html#logistic-regression\n",
      "  n_iter_i = _check_optimize_result(\n"
     ]
    },
    {
     "name": "stdout",
     "output_type": "stream",
     "text": [
      "Taking 45 cols -> memory_change_discussed, pysch_diagnosis, stroke_tia_attack, medications_new_since_last_surveys, head_injury, head_injury_severity, marital_status, hearing_impairment, medications, event_movie_cinema_normal, visual_legally_blind, hearing_impairment_correction, kidney_disease_diagnosis, dementia_family_history, host_visitors_how_often, heart_disease_diagnosis, event_restaurant_normal, dementia_diagnosis, visual_corrective_glasses, event_visiting_friends_normal, gender, heart_disease_type, employed, cns_diagnosis, event_pub_rsl_normal, articles_about_dementia_risk, epilepsy_diagnosis, language_english_only, event_play_drama_normal, memory_impairment_diagnosis, event_sporting_event_normal, other_dementia_risk_programs, meeting_club_group_how_often_month, cancer_diagnosis, b12_deficiency_diagnosis, active_member_club_group_num, event_special_performance_normal, cns_diagnosis_disorder, event_dancing_normal, event_music_recital_normal, retired, visual_colour_blind, active_member_club_group, volunteer, outing_family_friend_how_often\n",
      "\n"
     ]
    },
    {
     "name": "stderr",
     "output_type": "stream",
     "text": [
      "/usr/local/lib/python3.8/dist-packages/sklearn/linear_model/_logistic.py:814: ConvergenceWarning: lbfgs failed to converge (status=1):\n",
      "STOP: TOTAL NO. of ITERATIONS REACHED LIMIT.\n",
      "\n",
      "Increase the number of iterations (max_iter) or scale the data as shown in:\n",
      "    https://scikit-learn.org/stable/modules/preprocessing.html\n",
      "Please also refer to the documentation for alternative solver options:\n",
      "    https://scikit-learn.org/stable/modules/linear_model.html#logistic-regression\n",
      "  n_iter_i = _check_optimize_result(\n"
     ]
    },
    {
     "name": "stdout",
     "output_type": "stream",
     "text": [
      "Taking 50 cols -> memory_change_discussed, pysch_diagnosis, stroke_tia_attack, medications_new_since_last_surveys, head_injury, head_injury_severity, marital_status, hearing_impairment, medications, event_movie_cinema_normal, visual_legally_blind, hearing_impairment_correction, kidney_disease_diagnosis, dementia_family_history, host_visitors_how_often, heart_disease_diagnosis, event_restaurant_normal, dementia_diagnosis, visual_corrective_glasses, event_visiting_friends_normal, gender, heart_disease_type, employed, cns_diagnosis, event_pub_rsl_normal, articles_about_dementia_risk, epilepsy_diagnosis, language_english_only, event_play_drama_normal, memory_impairment_diagnosis, event_sporting_event_normal, other_dementia_risk_programs, meeting_club_group_how_often_month, cancer_diagnosis, b12_deficiency_diagnosis, active_member_club_group_num, event_special_performance_normal, cns_diagnosis_disorder, event_dancing_normal, event_music_recital_normal, retired, visual_colour_blind, active_member_club_group, volunteer, outing_family_friend_how_often, delerium_diagnosis, age_in_years, liver_disease_diagnosis, event_none_normal, cancer_type\n",
      "\n"
     ]
    },
    {
     "name": "stderr",
     "output_type": "stream",
     "text": [
      "/usr/local/lib/python3.8/dist-packages/sklearn/linear_model/_logistic.py:814: ConvergenceWarning: lbfgs failed to converge (status=1):\n",
      "STOP: TOTAL NO. of ITERATIONS REACHED LIMIT.\n",
      "\n",
      "Increase the number of iterations (max_iter) or scale the data as shown in:\n",
      "    https://scikit-learn.org/stable/modules/preprocessing.html\n",
      "Please also refer to the documentation for alternative solver options:\n",
      "    https://scikit-learn.org/stable/modules/linear_model.html#logistic-regression\n",
      "  n_iter_i = _check_optimize_result(\n"
     ]
    },
    {
     "name": "stdout",
     "output_type": "stream",
     "text": [
      "Taking 50 cols -> memory_change_discussed, pysch_diagnosis, stroke_tia_attack, medications_new_since_last_surveys, head_injury, head_injury_severity, marital_status, hearing_impairment, medications, event_movie_cinema_normal, visual_legally_blind, hearing_impairment_correction, kidney_disease_diagnosis, dementia_family_history, host_visitors_how_often, heart_disease_diagnosis, event_restaurant_normal, dementia_diagnosis, visual_corrective_glasses, event_visiting_friends_normal, gender, heart_disease_type, employed, cns_diagnosis, event_pub_rsl_normal, articles_about_dementia_risk, epilepsy_diagnosis, language_english_only, event_play_drama_normal, memory_impairment_diagnosis, event_sporting_event_normal, other_dementia_risk_programs, meeting_club_group_how_often_month, cancer_diagnosis, b12_deficiency_diagnosis, active_member_club_group_num, event_special_performance_normal, cns_diagnosis_disorder, event_dancing_normal, event_music_recital_normal, retired, visual_colour_blind, active_member_club_group, volunteer, outing_family_friend_how_often, delerium_diagnosis, age_in_years, liver_disease_diagnosis, event_none_normal, cancer_type\n",
      "\n"
     ]
    },
    {
     "name": "stderr",
     "output_type": "stream",
     "text": [
      "/usr/local/lib/python3.8/dist-packages/sklearn/linear_model/_logistic.py:814: ConvergenceWarning: lbfgs failed to converge (status=1):\n",
      "STOP: TOTAL NO. of ITERATIONS REACHED LIMIT.\n",
      "\n",
      "Increase the number of iterations (max_iter) or scale the data as shown in:\n",
      "    https://scikit-learn.org/stable/modules/preprocessing.html\n",
      "Please also refer to the documentation for alternative solver options:\n",
      "    https://scikit-learn.org/stable/modules/linear_model.html#logistic-regression\n",
      "  n_iter_i = _check_optimize_result(\n"
     ]
    }
   ],
   "source": [
    "lr_report_data, dt_report_data, rf_report_data, rf_regressor_report_data, lr_regressor_report_data, report_index = [], [], [], [], [], []\n",
    "\n",
    "while cols_to_take <= total_cols+gap:\n",
    "    # Data for classification task \n",
    "    data_to_consider = deepcopy(dfx)\n",
    "    cols = list(corr_data[\"column_name\"].iloc[:cols_to_take])\n",
    "    print(\"Taking {0} cols -> {1}\\n\".format(len(cols), \", \".join(cols)))\n",
    "    cols.append(\"memory_change\")\n",
    "    data_to_consider.drop(list(set(list(data_to_consider.columns)).difference(set(cols))), inplace=True, axis=1)\n",
    "    report_index.append(\"{0}_cols\".format(len(data_to_consider.columns)-1))\n",
    "    X_train, X_test, y_train, y_test = train_test_split(data_to_consider.drop(columns=['memory_change'], axis=1), data_to_consider['memory_change'], test_size=0.2, random_state=42)\n",
    "    \n",
    "    # Logistic Regression\n",
    "    lr1 = LogisticRegression()\n",
    "    lr1.fit(X_train, y_train.ravel())\n",
    "    predictions = lr1.predict(X_test)\n",
    "    lr_report_data.append(get_classification_report_row(classification_report(y_test, predictions, output_dict=True)))\n",
    "    \n",
    "    # Decision Tree Classifier\n",
    "    dt_classifier = DecisionTreeClassifier(criterion = 'entropy', random_state = 0)\n",
    "    dt_classifier.fit(X_train, y_train)\n",
    "    predictions = dt_classifier.predict(X_test)\n",
    "    dt_report_data.append(get_classification_report_row(classification_report(y_test, predictions, output_dict=True)))\n",
    "    \n",
    "    # Random Forest Classifier\n",
    "    modelRf = RandomForestClassifier(n_estimators = 100, criterion = 'entropy', random_state = 0)\n",
    "    modelRf.fit(X_train, y_train)\n",
    "    y_pred = modelRf.predict(X_test)\n",
    "    rf_report_data.append(get_classification_report_row(classification_report(y_test, y_pred, output_dict=True)))\n",
    "    \n",
    "    # Random Forest Regression\n",
    "    cols.remove(\"memory_change\")\n",
    "    cols.append(\"PALFAMS28Percentile\")\n",
    "    data_to_consider = deepcopy(dfx)\n",
    "    data_to_consider.drop(list(set(list(data_to_consider.columns)).difference(set(cols))), inplace=True, axis=1)\n",
    "    data_to_consider.dropna(subset=[\"PALFAMS28Percentile\"], axis=0, inplace=True)\n",
    "    X_train, X_test, y_train, y_test = train_test_split(data_to_consider.drop(columns=['PALFAMS28Percentile'], axis=1), data_to_consider['PALFAMS28Percentile'], test_size=0.2, random_state=42)\n",
    "    regressor = RandomForestRegressor(n_estimators = 100, random_state = 0)\n",
    "    regressor.fit(X_train, y_train)\n",
    "    y_pred = regressor.predict(X_test)\n",
    "    rf_regressor_report_data.append({\"Mean sq. error\": mean_squared_error(y_test, y_pred),\n",
    "                                     \"Train Data Size\": len(X_train),\n",
    "                                     \"Test Data Size\": len(X_test)\n",
    "                                    })\n",
    "    \n",
    "    # Linear Regression\n",
    "    lr_regressor = LinearRegression()\n",
    "    lr_regressor.fit(X_train, y_train)\n",
    "    y_pred = lr_regressor.predict(X_test)\n",
    "    lr_regressor_report_data.append({\"Mean sq. error\": mean_squared_error(y_test, y_pred),\n",
    "                                     \"Train Data Size\": len(X_train),\n",
    "                                     \"Test Data Size\": len(X_test)\n",
    "                                    })\n",
    "        \n",
    "    # For next iterations\n",
    "    cols_to_take += 5"
   ]
  },
  {
   "cell_type": "code",
   "execution_count": 10,
   "id": "f6c60177",
   "metadata": {},
   "outputs": [
    {
     "data": {
      "text/plain": [
       "[{'Precision': 0.99451,\n",
       "  'Recall': 0.99448,\n",
       "  'f1-score': 0.99443,\n",
       "  'Accuracy': 0.99448},\n",
       " {'Precision': 0.99451,\n",
       "  'Recall': 0.99448,\n",
       "  'f1-score': 0.99443,\n",
       "  'Accuracy': 0.99448},\n",
       " {'Precision': 0.99451,\n",
       "  'Recall': 0.99448,\n",
       "  'f1-score': 0.99443,\n",
       "  'Accuracy': 0.99448},\n",
       " {'Precision': 0.99451,\n",
       "  'Recall': 0.99448,\n",
       "  'f1-score': 0.99443,\n",
       "  'Accuracy': 0.99448},\n",
       " {'Precision': 0.99179,\n",
       "  'Recall': 0.99171,\n",
       "  'f1-score': 0.99162,\n",
       "  'Accuracy': 0.99171},\n",
       " {'Precision': 0.99179,\n",
       "  'Recall': 0.99171,\n",
       "  'f1-score': 0.99162,\n",
       "  'Accuracy': 0.99171},\n",
       " {'Precision': 0.99179,\n",
       "  'Recall': 0.99171,\n",
       "  'f1-score': 0.99162,\n",
       "  'Accuracy': 0.99171},\n",
       " {'Precision': 0.99451,\n",
       "  'Recall': 0.99448,\n",
       "  'f1-score': 0.99443,\n",
       "  'Accuracy': 0.99448},\n",
       " {'Precision': 0.99451,\n",
       "  'Recall': 0.99448,\n",
       "  'f1-score': 0.99443,\n",
       "  'Accuracy': 0.99448},\n",
       " {'Precision': 0.99451,\n",
       "  'Recall': 0.99448,\n",
       "  'f1-score': 0.99443,\n",
       "  'Accuracy': 0.99448},\n",
       " {'Precision': 0.99451,\n",
       "  'Recall': 0.99448,\n",
       "  'f1-score': 0.99443,\n",
       "  'Accuracy': 0.99448}]"
      ]
     },
     "execution_count": 10,
     "metadata": {},
     "output_type": "execute_result"
    }
   ],
   "source": [
    "lr_report_data"
   ]
  },
  {
   "cell_type": "code",
   "execution_count": 11,
   "id": "1be058ff",
   "metadata": {},
   "outputs": [],
   "source": [
    "lr_report = pd.DataFrame(lr_report_data, index=report_index)\n",
    "dt_report = pd.DataFrame(dt_report_data, index=report_index)\n",
    "rf_report = pd.DataFrame(rf_report_data, index=report_index)\n",
    "rf_regressor = pd.DataFrame(rf_regressor_report_data, index=report_index)\n",
    "lr_regressor_df = pd.DataFrame(lr_regressor_report_data, index = report_index)"
   ]
  },
  {
   "cell_type": "code",
   "execution_count": 12,
   "id": "9d8af9f6",
   "metadata": {},
   "outputs": [],
   "source": [
    "with pd.ExcelWriter(output_file) as writer:\n",
    "    lr_report.to_excel(writer, sheet_name=\"Logistic Regression\", index=True, header=True)\n",
    "    dt_report.to_excel(writer, sheet_name=\"Decision Tree\", index=True, header=True)\n",
    "    rf_report.to_excel(writer, sheet_name=\"Random Forest Classifier\", index=True, header=True)\n",
    "    rf_regressor.to_excel(writer, sheet_name=\"Random Forest Regressor\", index=True, header=True)\n",
    "    lr_regressor_df.to_excel(writer, sheet_name=\"Linear Regressor\", index=True, header=True)"
   ]
  },
  {
   "cell_type": "code",
   "execution_count": 13,
   "id": "18ac9849",
   "metadata": {},
   "outputs": [
    {
     "data": {
      "text/plain": [
       "['__abstractmethods__',\n",
       " '__class__',\n",
       " '__delattr__',\n",
       " '__dict__',\n",
       " '__dir__',\n",
       " '__doc__',\n",
       " '__eq__',\n",
       " '__format__',\n",
       " '__ge__',\n",
       " '__getattribute__',\n",
       " '__getstate__',\n",
       " '__gt__',\n",
       " '__hash__',\n",
       " '__init__',\n",
       " '__init_subclass__',\n",
       " '__le__',\n",
       " '__lt__',\n",
       " '__module__',\n",
       " '__ne__',\n",
       " '__new__',\n",
       " '__reduce__',\n",
       " '__reduce_ex__',\n",
       " '__repr__',\n",
       " '__setattr__',\n",
       " '__setstate__',\n",
       " '__sizeof__',\n",
       " '__str__',\n",
       " '__subclasshook__',\n",
       " '__weakref__',\n",
       " '_abc_impl',\n",
       " '_check_feature_names',\n",
       " '_check_n_features',\n",
       " '_decision_function',\n",
       " '_estimator_type',\n",
       " '_get_param_names',\n",
       " '_get_tags',\n",
       " '_more_tags',\n",
       " '_preprocess_data',\n",
       " '_repr_html_',\n",
       " '_repr_html_inner',\n",
       " '_repr_mimebundle_',\n",
       " '_residues',\n",
       " '_set_intercept',\n",
       " '_validate_data',\n",
       " 'coef_',\n",
       " 'copy_X',\n",
       " 'feature_names_in_',\n",
       " 'fit',\n",
       " 'fit_intercept',\n",
       " 'get_params',\n",
       " 'intercept_',\n",
       " 'n_features_in_',\n",
       " 'n_jobs',\n",
       " 'normalize',\n",
       " 'positive',\n",
       " 'predict',\n",
       " 'rank_',\n",
       " 'score',\n",
       " 'set_params',\n",
       " 'singular_']"
      ]
     },
     "execution_count": 13,
     "metadata": {},
     "output_type": "execute_result"
    }
   ],
   "source": [
    "dir(lr_regressor)"
   ]
  },
  {
   "cell_type": "raw",
   "id": "e849a891",
   "metadata": {},
   "source": [
    "lr_regressor._get_param_names()"
   ]
  },
  {
   "cell_type": "code",
   "execution_count": null,
   "id": "fad603dd",
   "metadata": {},
   "outputs": [],
   "source": []
  }
 ],
 "metadata": {
  "kernelspec": {
   "display_name": "Python 3 (ipykernel)",
   "language": "python",
   "name": "python3"
  },
  "language_info": {
   "codemirror_mode": {
    "name": "ipython",
    "version": 3
   },
   "file_extension": ".py",
   "mimetype": "text/x-python",
   "name": "python",
   "nbconvert_exporter": "python",
   "pygments_lexer": "ipython3",
   "version": "3.8.10"
  }
 },
 "nbformat": 4,
 "nbformat_minor": 5
}
